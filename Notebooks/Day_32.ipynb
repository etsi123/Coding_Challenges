{
 "cells": [
  {
   "cell_type": "markdown",
   "metadata": {},
   "source": [
    "## A country is big if it has an area of bigger than 3 million square km or a population of more than 25 million.\n",
    "\n",
    "Write a SQL solution to output big countries' name, population and area."
   ]
  },
  {
   "cell_type": "code",
   "execution_count": 1,
   "metadata": {},
   "outputs": [],
   "source": [
    "%load_ext sql\n",
    "%sql sqlite://"
   ]
  },
  {
   "cell_type": "code",
   "execution_count": 2,
   "metadata": {},
   "outputs": [
    {
     "name": "stdout",
     "output_type": "stream",
     "text": [
      " * sqlite://\n",
      "Done.\n",
      "5 rows affected.\n"
     ]
    },
    {
     "data": {
      "text/plain": [
       "[]"
      ]
     },
     "execution_count": 2,
     "metadata": {},
     "output_type": "execute_result"
    }
   ],
   "source": [
    "%%sql\n",
    "Create Table World \n",
    "(\n",
    "    Name        varchar(6),\n",
    "    Continent   varchar(6),\n",
    "    Area        integer,\n",
    "    Population  integer,\n",
    "    GDP         integer\n",
    "    \n",
    ");\n",
    "\n",
    "INSERT INTO World\n",
    "VALUES ('Afghanistan','Asia',652230,25500100,20343000),\n",
    "        ('Albania','Europe',28748,2831741,12960000),\n",
    "        ('Algeria','Africa',2381741,37100000,188681000),\n",
    "        ('Andorra','Europe',468,78115,3712000),\n",
    "        ('Angola','Africa',1246700,20609294,100990000);\n"
   ]
  },
  {
   "cell_type": "code",
   "execution_count": 3,
   "metadata": {},
   "outputs": [
    {
     "name": "stdout",
     "output_type": "stream",
     "text": [
      " * sqlite://\n",
      "Done.\n"
     ]
    },
    {
     "data": {
      "text/html": [
       "<table>\n",
       "    <tr>\n",
       "        <th>Name</th>\n",
       "        <th>Continent</th>\n",
       "        <th>Area</th>\n",
       "        <th>Population</th>\n",
       "        <th>GDP</th>\n",
       "    </tr>\n",
       "    <tr>\n",
       "        <td>Afghanistan</td>\n",
       "        <td>Asia</td>\n",
       "        <td>652230</td>\n",
       "        <td>25500100</td>\n",
       "        <td>20343000</td>\n",
       "    </tr>\n",
       "    <tr>\n",
       "        <td>Albania</td>\n",
       "        <td>Europe</td>\n",
       "        <td>28748</td>\n",
       "        <td>2831741</td>\n",
       "        <td>12960000</td>\n",
       "    </tr>\n",
       "    <tr>\n",
       "        <td>Algeria</td>\n",
       "        <td>Africa</td>\n",
       "        <td>2381741</td>\n",
       "        <td>37100000</td>\n",
       "        <td>188681000</td>\n",
       "    </tr>\n",
       "    <tr>\n",
       "        <td>Andorra</td>\n",
       "        <td>Europe</td>\n",
       "        <td>468</td>\n",
       "        <td>78115</td>\n",
       "        <td>3712000</td>\n",
       "    </tr>\n",
       "    <tr>\n",
       "        <td>Angola</td>\n",
       "        <td>Africa</td>\n",
       "        <td>1246700</td>\n",
       "        <td>20609294</td>\n",
       "        <td>100990000</td>\n",
       "    </tr>\n",
       "</table>"
      ],
      "text/plain": [
       "[('Afghanistan', 'Asia', 652230, 25500100, 20343000),\n",
       " ('Albania', 'Europe', 28748, 2831741, 12960000),\n",
       " ('Algeria', 'Africa', 2381741, 37100000, 188681000),\n",
       " ('Andorra', 'Europe', 468, 78115, 3712000),\n",
       " ('Angola', 'Africa', 1246700, 20609294, 100990000)]"
      ]
     },
     "execution_count": 3,
     "metadata": {},
     "output_type": "execute_result"
    }
   ],
   "source": [
    "%%sql\n",
    "SELECT * FROM World #show the original table. "
   ]
  },
  {
   "cell_type": "code",
   "execution_count": 4,
   "metadata": {},
   "outputs": [
    {
     "name": "stdout",
     "output_type": "stream",
     "text": [
      " * sqlite://\n",
      "Done.\n"
     ]
    },
    {
     "data": {
      "text/html": [
       "<table>\n",
       "    <tr>\n",
       "        <th>Name</th>\n",
       "        <th>Population</th>\n",
       "        <th>Area</th>\n",
       "    </tr>\n",
       "    <tr>\n",
       "        <td>Afghanistan</td>\n",
       "        <td>25500100</td>\n",
       "        <td>652230</td>\n",
       "    </tr>\n",
       "    <tr>\n",
       "        <td>Algeria</td>\n",
       "        <td>37100000</td>\n",
       "        <td>2381741</td>\n",
       "    </tr>\n",
       "</table>"
      ],
      "text/plain": [
       "[('Afghanistan', 25500100, 652230), ('Algeria', 37100000, 2381741)]"
      ]
     },
     "execution_count": 4,
     "metadata": {},
     "output_type": "execute_result"
    }
   ],
   "source": [
    "%%sql\n",
    "SELECT Name, Population, Area #columns to return\n",
    "FROM World #table\n",
    "WHERE World.Population > 25000000 or World.Area > 3000000 #basic condition"
   ]
  },
  {
   "cell_type": "code",
   "execution_count": null,
   "metadata": {},
   "outputs": [],
   "source": []
  }
 ],
 "metadata": {
  "kernelspec": {
   "display_name": "Python 3",
   "language": "python",
   "name": "python3"
  },
  "language_info": {
   "codemirror_mode": {
    "name": "ipython",
    "version": 3
   },
   "file_extension": ".py",
   "mimetype": "text/x-python",
   "name": "python",
   "nbconvert_exporter": "python",
   "pygments_lexer": "ipython3",
   "version": "3.7.7"
  }
 },
 "nbformat": 4,
 "nbformat_minor": 4
}
