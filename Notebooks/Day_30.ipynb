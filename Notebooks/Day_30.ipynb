{
 "cells": [
  {
   "cell_type": "markdown",
   "metadata": {},
   "source": [
    "## Depth First Search begins by looking at the root node (an arbitrary node) of a graph. If we are performing a traversal of the entire graph, it visits the first child of a root node, then, in turn, looks at the first child of this node and continues along this branch until it reaches a leaf node. Next, it backtracks and explores the other children of the parent node in a similar manner. This continues until we visit all the nodes of the tree, and there is no parent node left to explore."
   ]
  },
  {
   "cell_type": "code",
   "execution_count": 1,
   "metadata": {},
   "outputs": [
    {
     "name": "stdout",
     "output_type": "stream",
     "text": [
      "A\n",
      "B\n",
      "D\n",
      "E\n",
      "F\n",
      "C\n",
      "['A', 'B', 'D', 'E', 'F', 'C']\n",
      "  \n",
      "A\n",
      "B\n",
      "E\n",
      "I\n",
      "C\n",
      "F\n",
      "J\n",
      "G\n",
      "D\n",
      "H\n",
      "['A', 'B', 'E', 'I', 'C', 'F', 'J', 'G', 'D', 'H']\n"
     ]
    }
   ],
   "source": [
    "#Important subtly : in this implementation, we take the next element to visit from the first element in the neighboring\n",
    "#list. Some implementations may start with the last element (e.g., second element is C instead of B in the \n",
    "#first example.) and work backwards. \n",
    "def depthFirstSearch(graph,node): \n",
    "    solution = [node] #first element is the origin node\n",
    "    print(node)\n",
    "    explore_next_que = graph[node] #que to explore next element in graph\n",
    "    while len(explore_next_que) > 0: \n",
    "        next_node = explore_next_que[0] #next node is the one at the start of the list\n",
    "        explore_next_que.remove(next_node) #remove it from the que\n",
    "        if next_node not in solution: #if it has not been visisted yet..\n",
    "            print(next_node)\n",
    "            solution.append(next_node) #add it to the solution\n",
    "            explore_next_que = graph[next_node] + explore_next_que #add it to the que. \n",
    "    return solution\n",
    "graph = {\n",
    "    'A' : ['B','C'],\n",
    "    'B' : ['D', 'E'],\n",
    "    'C' : ['F'],\n",
    "    'D' : [],\n",
    "    'E' : ['F'],\n",
    "    'F' : []\n",
    "}\n",
    "print(depthFirstSearch(graph,'A'))\n",
    "print('  ')\n",
    "graph = {\"A\":[\"B\",\"C\",\"D\"],\n",
    "   \"B\":[\"E\"],\n",
    "   \"C\":[\"F\",\"G\"],\n",
    "   \"D\":[\"H\"],\n",
    "   \"E\":[\"I\"],\n",
    "   \"F\":[\"J\"],\n",
    "    \"H\":[],\"G\":[],\"J\":[],\"I\":[]   }\n",
    "print(depthFirstSearch(graph,'A'))"
   ]
  },
  {
   "cell_type": "code",
   "execution_count": null,
   "metadata": {},
   "outputs": [],
   "source": []
  }
 ],
 "metadata": {
  "kernelspec": {
   "display_name": "Python 3",
   "language": "python",
   "name": "python3"
  },
  "language_info": {
   "codemirror_mode": {
    "name": "ipython",
    "version": 3
   },
   "file_extension": ".py",
   "mimetype": "text/x-python",
   "name": "python",
   "nbconvert_exporter": "python",
   "pygments_lexer": "ipython3",
   "version": "3.7.7"
  }
 },
 "nbformat": 4,
 "nbformat_minor": 4
}
