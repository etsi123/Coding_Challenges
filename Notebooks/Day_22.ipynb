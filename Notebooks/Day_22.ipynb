{
 "cells": [
  {
   "cell_type": "markdown",
   "metadata": {},
   "source": [
    "## SQL problem: Employees Earning More Than Their Managers. Given a table of employees, return the employees who make more money than their managers."
   ]
  },
  {
   "cell_type": "code",
   "execution_count": 1,
   "metadata": {},
   "outputs": [],
   "source": [
    "%load_ext sql\n",
    "%sql sqlite://"
   ]
  },
  {
   "cell_type": "code",
   "execution_count": 2,
   "metadata": {},
   "outputs": [
    {
     "name": "stdout",
     "output_type": "stream",
     "text": [
      " * sqlite://\n",
      "Done.\n",
      "4 rows affected.\n",
      "1 rows affected.\n",
      "1 rows affected.\n"
     ]
    },
    {
     "data": {
      "text/plain": [
       "[]"
      ]
     },
     "execution_count": 2,
     "metadata": {},
     "output_type": "execute_result"
    }
   ],
   "source": [
    "%%sql\n",
    "CREATE TABLE Employee --#Create the table of employees\n",
    "(\n",
    "    ID        integer,\n",
    "    Name      varchar(6),\n",
    "    Salary    integer,\n",
    "    ManagerID integer\n",
    ");\n",
    "INSERT INTO Employee\n",
    "VALUES (1, 'Joe', 70000, 3),\n",
    "       (2, 'Henry', 80000, 4),\n",
    "       (3, 'Sam', 60000, Null),\n",
    "       (4, 'Max', 90000, Null);\n",
    "INSERT INTO Employee\n",
    "VALUES(5,'Evan',100000,3);\n",
    "\n",
    "INSERT INTO Employee (ID, Salary)\n",
    "VALUES (10, 54321);"
   ]
  },
  {
   "cell_type": "code",
   "execution_count": 3,
   "metadata": {},
   "outputs": [
    {
     "name": "stdout",
     "output_type": "stream",
     "text": [
      " * sqlite://\n",
      "Done.\n"
     ]
    },
    {
     "data": {
      "text/html": [
       "<table>\n",
       "    <tr>\n",
       "        <th>ID</th>\n",
       "        <th>Name</th>\n",
       "        <th>Salary</th>\n",
       "        <th>ManagerID</th>\n",
       "    </tr>\n",
       "    <tr>\n",
       "        <td>1</td>\n",
       "        <td>Joe</td>\n",
       "        <td>70000</td>\n",
       "        <td>3</td>\n",
       "    </tr>\n",
       "    <tr>\n",
       "        <td>2</td>\n",
       "        <td>Henry</td>\n",
       "        <td>80000</td>\n",
       "        <td>4</td>\n",
       "    </tr>\n",
       "    <tr>\n",
       "        <td>3</td>\n",
       "        <td>Sam</td>\n",
       "        <td>60000</td>\n",
       "        <td>None</td>\n",
       "    </tr>\n",
       "    <tr>\n",
       "        <td>4</td>\n",
       "        <td>Max</td>\n",
       "        <td>90000</td>\n",
       "        <td>None</td>\n",
       "    </tr>\n",
       "    <tr>\n",
       "        <td>5</td>\n",
       "        <td>Evan</td>\n",
       "        <td>100000</td>\n",
       "        <td>3</td>\n",
       "    </tr>\n",
       "    <tr>\n",
       "        <td>10</td>\n",
       "        <td>None</td>\n",
       "        <td>54321</td>\n",
       "        <td>None</td>\n",
       "    </tr>\n",
       "</table>"
      ],
      "text/plain": [
       "[(1, 'Joe', 70000, 3),\n",
       " (2, 'Henry', 80000, 4),\n",
       " (3, 'Sam', 60000, None),\n",
       " (4, 'Max', 90000, None),\n",
       " (5, 'Evan', 100000, 3),\n",
       " (10, None, 54321, None)]"
      ]
     },
     "execution_count": 3,
     "metadata": {},
     "output_type": "execute_result"
    }
   ],
   "source": [
    "%%sql\n",
    "select * from Employee; --#display example of employees. "
   ]
  },
  {
   "cell_type": "code",
   "execution_count": 4,
   "metadata": {},
   "outputs": [
    {
     "name": "stdout",
     "output_type": "stream",
     "text": [
      " * sqlite://\n",
      "Done.\n"
     ]
    },
    {
     "data": {
      "text/html": [
       "<table>\n",
       "    <tr>\n",
       "        <th>Employee</th>\n",
       "    </tr>\n",
       "    <tr>\n",
       "        <td>Joe</td>\n",
       "    </tr>\n",
       "    <tr>\n",
       "        <td>Evan</td>\n",
       "    </tr>\n",
       "</table>"
      ],
      "text/plain": [
       "[('Joe',), ('Evan',)]"
      ]
     },
     "execution_count": 4,
     "metadata": {},
     "output_type": "execute_result"
    }
   ],
   "source": [
    "%%sql\n",
    "SELECT worker.Name as Employee --#Return worker name labeled as employee. \n",
    "FROM Employee worker --#create alias to represent employee\n",
    "JOIN Employee manager --#create alias to represent manager\n",
    "ON worker.ManagerID = manager.ID --#join on the worker and manager id. \n",
    "AND worker.Salary > manager.Salary --#only where the salary of the worker is greater than the manager. "
   ]
  },
  {
   "cell_type": "code",
   "execution_count": null,
   "metadata": {},
   "outputs": [],
   "source": []
  }
 ],
 "metadata": {
  "kernelspec": {
   "display_name": "Python 3",
   "language": "python",
   "name": "python3"
  },
  "language_info": {
   "codemirror_mode": {
    "name": "ipython",
    "version": 3
   },
   "file_extension": ".py",
   "mimetype": "text/x-python",
   "name": "python",
   "nbconvert_exporter": "python",
   "pygments_lexer": "ipython3",
   "version": "3.7.7"
  }
 },
 "nbformat": 4,
 "nbformat_minor": 4
}
