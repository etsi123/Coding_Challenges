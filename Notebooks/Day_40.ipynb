{
 "cells": [
  {
   "cell_type": "markdown",
   "metadata": {},
   "source": [
    "## You may recall that an array arr is a mountain array if and only if:\n",
    "\n",
    "arr.length >= 3\n",
    "There exists some index i (0-indexed) with 0 < i < arr.length - 1 such that:\n",
    "arr[0] < arr[1] < ... < arr[i - 1] < arr[i]\n",
    "arr[i] > arr[i + 1] > ... > arr[arr.length - 1]\n",
    "Given an integer array arr, return the length of the longest subarray, which is a mountain. Return 0 if there is no mountain subarray."
   ]
  },
  {
   "cell_type": "code",
   "execution_count": 1,
   "metadata": {},
   "outputs": [],
   "source": [
    "import regex as re\n",
    "\n",
    "def longestMountain(input_array): \n",
    "    up_flag = 0\n",
    "    down_flag = 0\n",
    "    longest_path = 0\n",
    "    currPath = 0\n",
    "    numElements = len(input_array)\n",
    "    signed_array = []\n",
    "    for i in range(0,numElements-1):  #convert array into sign(derivative to signifify increase/decrease/nochange)\n",
    "        if input_array[i+1]>input_array[i]: \n",
    "            signed_array.append('+1')\n",
    "        elif input_array[i+1] == input_array[i]: \n",
    "            signed_array.append('0')\n",
    "        else:\n",
    "            signed_array.append('-1')\n",
    "    signed_array = ''.join(signed_array)\n",
    "            \n",
    "    matches = re.findall(\"\\+1.*-1\", signed_array,overlapped=True) \n",
    "    matches = [ x for x in matches if \"0\" not in x ] #return the ones that do not include a 0\n",
    "    if matches != []:\n",
    "        longest = max(matches, key = len) \n",
    "        return len(longest)/2+1 #length of longest array\n",
    "    else: return 0"
   ]
  },
  {
   "cell_type": "code",
   "execution_count": 2,
   "metadata": {},
   "outputs": [
    {
     "name": "stdout",
     "output_type": "stream",
     "text": [
      "5.0\n",
      "0\n"
     ]
    }
   ],
   "source": [
    "input_array = [2,1,4,7,3,2,5]\n",
    "print(longestMountain(input_array)) \n",
    "\n",
    "input_array = [2,2,2]\n",
    "print(longestMountain(input_array)) "
   ]
  },
  {
   "cell_type": "code",
   "execution_count": null,
   "metadata": {},
   "outputs": [],
   "source": []
  }
 ],
 "metadata": {
  "kernelspec": {
   "display_name": "Python 3",
   "language": "python",
   "name": "python3"
  },
  "language_info": {
   "codemirror_mode": {
    "name": "ipython",
    "version": 3
   },
   "file_extension": ".py",
   "mimetype": "text/x-python",
   "name": "python",
   "nbconvert_exporter": "python",
   "pygments_lexer": "ipython3",
   "version": "3.7.7"
  }
 },
 "nbformat": 4,
 "nbformat_minor": 2
}
