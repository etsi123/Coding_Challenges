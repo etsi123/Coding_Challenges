{
 "cells": [
  {
   "cell_type": "markdown",
   "metadata": {},
   "source": [
    "## Given an ordered list of (x,y) coordinates where y = f(x), approximate the function f(x) with the trapezoidal method.  area of trapezoid = h(b1+b2)/2 where b1 is base 1, b2 is base 2, and h is the height of the trapezoid. "
   ]
  },
  {
   "cell_type": "code",
   "execution_count": 1,
   "metadata": {},
   "outputs": [],
   "source": [
    "def trap(coors): \n",
    "    area = 0 #compute running sum of area. \n",
    "    x_list = [] #store the x coordinates. \n",
    "    y_list = [] #store the y coordinates. \n",
    "    num_points = len(coors)\n",
    "    \n",
    "    for i in range(0,num_points): \n",
    "        x_list.append(coors[i][0]) \n",
    "        y_list.append(coors[i][1])\n",
    "        \n",
    "    for i in range(0,num_points-1): \n",
    "        x1,x2 = x_list[i],x_list[i+1] \n",
    "        y1,y2 = y_list[i],y_list[i+1]\n",
    "        h = x2 - x1 #compute delta h. \n",
    "        ar = (y2+y1)/2 #compute the second term in the area of a trapezoid formula. \n",
    "        area = area + ar*h #add it to the running total area. \n",
    "    \n",
    "    return area"
   ]
  },
  {
   "cell_type": "code",
   "execution_count": 2,
   "metadata": {},
   "outputs": [],
   "source": [
    "import numpy as np\n",
    "coors = [(2,3*np.log(2)),\n",
    "         (4,3*np.log(4)),\n",
    "         (6,3*np.log(6)),\n",
    "         (8,3*np.log(8))]"
   ]
  },
  {
   "cell_type": "code",
   "execution_count": 3,
   "metadata": {},
   "outputs": [
    {
     "data": {
      "text/plain": [
       "27.386089148807017"
      ]
     },
     "execution_count": 3,
     "metadata": {},
     "output_type": "execute_result"
    }
   ],
   "source": [
    "trap(coors)"
   ]
  },
  {
   "cell_type": "code",
   "execution_count": null,
   "metadata": {},
   "outputs": [],
   "source": []
  }
 ],
 "metadata": {
  "kernelspec": {
   "display_name": "Python 3",
   "language": "python",
   "name": "python3"
  },
  "language_info": {
   "codemirror_mode": {
    "name": "ipython",
    "version": 3
   },
   "file_extension": ".py",
   "mimetype": "text/x-python",
   "name": "python",
   "nbconvert_exporter": "python",
   "pygments_lexer": "ipython3",
   "version": "3.7.7"
  }
 },
 "nbformat": 4,
 "nbformat_minor": 4
}
