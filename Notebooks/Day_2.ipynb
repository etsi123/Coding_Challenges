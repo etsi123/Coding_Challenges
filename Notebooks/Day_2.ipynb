{
 "cells": [
  {
   "cell_type": "markdown",
   "metadata": {},
   "source": [
    "## Two Number Sum problem: Given an unsorted array, find all pairs of integers such that the sum is a specified target value. \n",
    "Example: \n",
    "\n",
    "input: array :[3,5,11,-3,16],target: 8\n",
    "\n",
    "Output: [[3,5],[11,-3]]"
   ]
  },
  {
   "cell_type": "code",
   "execution_count": 1,
   "metadata": {},
   "outputs": [],
   "source": [
    "def two_number_sum(input_array,desired_sum): \n",
    "    #This can certainly be done in O(n^2) time with a double loop, but perhaps it can be done in linear time\n",
    "    #via dynamic programming (storing what has already been seen)\n",
    "    my_dict = {} #Store what has already been seen\n",
    "    solution = []#append solution\n",
    "    counter = 0 #Counter number of loop iterations. \n",
    "    \n",
    "    for i in range(0,len(input_array)): \n",
    "        counter = counter + 1\n",
    "        goal = desired_sum - input_array[i] #We can keep track of number required to complete pair. \n",
    "        if goal in my_dict.keys(): \n",
    "            ind = my_dict[goal] #What is the index of the number that completes the pair. \n",
    "            solution.append([input_array[i],input_array[ind]])#Append current number with completed pair number\n",
    "        else: \n",
    "            my_dict[input_array[i]] = i #Nothing matches, store in the hashtable so it can be looked up if needed. \n",
    "            \n",
    "    print('Num loop iterations : ' + str(counter))   \n",
    "    return solution"
   ]
  },
  {
   "cell_type": "code",
   "execution_count": 2,
   "metadata": {},
   "outputs": [
    {
     "name": "stdout",
     "output_type": "stream",
     "text": [
      "Num loop iterations : 5\n"
     ]
    },
    {
     "data": {
      "text/plain": [
       "[[5, 3], [-3, 11]]"
      ]
     },
     "execution_count": 2,
     "metadata": {},
     "output_type": "execute_result"
    }
   ],
   "source": [
    "two_number_sum([3, 5, 11, -3, 16],8)"
   ]
  },
  {
   "cell_type": "code",
   "execution_count": 3,
   "metadata": {},
   "outputs": [],
   "source": [
    "def findThreeLargestNumbers(array):\n",
    "    solution = array[0:3]\n",
    "    print(solution)\n",
    "    for i in range(3,len(array)): \n",
    "        print(array[i])\n",
    "        print(min(solution))\n",
    "        if array[i] > min(solution): \n",
    "            print(here)\n",
    "            solution[solution.index(min(solution))] = array[i]\n",
    "    solution.sort()\n",
    "    return solution"
   ]
  },
  {
   "cell_type": "code",
   "execution_count": 4,
   "metadata": {},
   "outputs": [
    {
     "name": "stdout",
     "output_type": "stream",
     "text": [
      "[55, 43, 11]\n",
      "3\n",
      "11\n",
      "-3\n",
      "11\n",
      "10\n",
      "11\n"
     ]
    },
    {
     "data": {
      "text/plain": [
       "[11, 43, 55]"
      ]
     },
     "execution_count": 4,
     "metadata": {},
     "output_type": "execute_result"
    }
   ],
   "source": [
    "array = [55, 43, 11, 3, -3, 10]\n",
    "findThreeLargestNumbers(array)"
   ]
  },
  {
   "cell_type": "code",
   "execution_count": null,
   "metadata": {},
   "outputs": [],
   "source": []
  }
 ],
 "metadata": {
  "kernelspec": {
   "display_name": "Python 3",
   "language": "python",
   "name": "python3"
  },
  "language_info": {
   "codemirror_mode": {
    "name": "ipython",
    "version": 3
   },
   "file_extension": ".py",
   "mimetype": "text/x-python",
   "name": "python",
   "nbconvert_exporter": "python",
   "pygments_lexer": "ipython3",
   "version": "3.7.7"
  }
 },
 "nbformat": 4,
 "nbformat_minor": 4
}
