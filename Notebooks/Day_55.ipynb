{
 "cells": [
  {
   "cell_type": "markdown",
   "metadata": {},
   "source": [
    "## Python Program for 0-1 Knapsack Problem\n",
    "\n",
    "Constrained optimization problem. You're bringing a bag full of valuable items to sell but you're bag has a maximum weight capacity of W. Given weights and price tags of every item, which items should be placed in the mag to maximize profit. "
   ]
  },
  {
   "cell_type": "code",
   "execution_count": 1,
   "metadata": {},
   "outputs": [
    {
     "name": "stdout",
     "output_type": "stream",
     "text": [
      "420\n",
      "42\n"
     ]
    }
   ],
   "source": [
    "my_dict = {} #dictionary to store redundant work. \n",
    "my_calls = 0 #count number of calls. \n",
    "def knapSack(max_Weight, weight_list, value_list, currItem): \n",
    "    global my_dict \n",
    "    global my_calls\n",
    "    my_calls += 1\n",
    "    if currItem == 0 or max_Weight == 0 : #end of the recursion. \n",
    "        return 0\n",
    "    if (weight_list[currItem-1] > max_Weight): #if we can't add the item, then don't. end of this branch. \n",
    "        return knapSack(max_Weight, weight_list, value_list, currItem-1) \n",
    "    else: \n",
    "        weight_with = max_Weight - weight_list[currItem-1] #weight with item included. \n",
    "        currItem_with = currItem-1 #next n. \n",
    "        val_with = value_list[currItem-1] #value without item included. \n",
    "        \n",
    "        weight_without = max_Weight #weight withoout item included. \n",
    "        currItem_without = currItem-1\n",
    "        val_without = 0 #added value withouut item included. \n",
    "       \n",
    "        with_Case = str(str(weight_with)+'_'+str(currItem_with)+'_'+str(val_with)) #string for index of dictionary\n",
    "        without_Case = str(str(weight_without)+'_'+str(currItem_without)+'_'+str(val_without))\n",
    "        \n",
    "        if with_Case in my_dict.keys(): #store in dictionary for easy lookup\n",
    "            caseA = my_dict[with_Case] \n",
    "        else: \n",
    "            caseA = val_with + knapSack(weight_with, weight_list, value_list, currItem_with)            \n",
    "            \n",
    "        if without_Case in my_dict.keys():\n",
    "            caseB = my_dict[without_Case]\n",
    "        else: \n",
    "            caseB = val_without + knapSack(weight_without, weight_list, value_list, currItem_without)\n",
    "            \n",
    "        my_dict[with_Case] = caseA\n",
    "        my_dict[without_Case] = caseB   \n",
    "        return max(caseA,caseB)  \n",
    "    \n",
    "value_list = [60, 100, 120,200,130,120] \n",
    "weight_list = [10, 20, 30,10,30,20] \n",
    "max_Weight = 50\n",
    "currItem = len(value_list) \n",
    "\n",
    "print (knapSack(max_Weight, weight_list, value_list, currItem))\n",
    "print(my_calls)"
   ]
  },
  {
   "cell_type": "code",
   "execution_count": 2,
   "metadata": {},
   "outputs": [
    {
     "name": "stdout",
     "output_type": "stream",
     "text": [
      "420\n",
      "58\n"
     ]
    }
   ],
   "source": [
    "my_calls = 0\n",
    "def knapSack(W, wt, val, n): \n",
    "    global my_calls\n",
    "    my_calls += 1\n",
    "    # Base Case \n",
    "    if n == 0 or W == 0 : \n",
    "        return 0\n",
    "  \n",
    "    # If weight of the nth item is more than Knapsack of capacity \n",
    "    # W, then this item cannot be included in the optimal solution \n",
    "    if (wt[n-1] > W): \n",
    "        return knapSack(W, wt, val, n-1) \n",
    "  \n",
    "    # return the maximum of two cases: \n",
    "    # (1) nth item included \n",
    "    # (2) not included \n",
    "    else: \n",
    "        return max(val[n-1] + knapSack(W-wt[n-1], wt, val, n-1), \n",
    "                   knapSack(W, wt, val, n-1)) \n",
    "  \n",
    "\n",
    "val = [60, 100, 120,200,130,120] \n",
    "wt = [10, 20, 30,10,30,20] \n",
    "W = 50\n",
    "n = len(val) \n",
    "\n",
    "print (knapSack(W, wt, val, n))\n",
    "print(my_calls)"
   ]
  },
  {
   "cell_type": "code",
   "execution_count": 3,
   "metadata": {},
   "outputs": [
    {
     "name": "stdout",
     "output_type": "stream",
     "text": [
      "6765\n",
      "39\n"
     ]
    }
   ],
   "source": [
    "my_dict = {}\n",
    "num_calls = 0\n",
    "def fib(n):\n",
    "    global num_calls\n",
    "    global my_dict\n",
    "    num_calls += 1\n",
    "    if n == 0: \n",
    "        return 0\n",
    "    if n == 1: \n",
    "        return 1\n",
    "    \n",
    "    if n not in my_dict.keys(): \n",
    "        my_dict[n] = fib(n-1) + fib(n-2)\n",
    "        \n",
    "    return my_dict[n]\n",
    "    \n",
    "print(fib(20))  \n",
    "print(num_calls)"
   ]
  },
  {
   "cell_type": "code",
   "execution_count": 4,
   "metadata": {},
   "outputs": [
    {
     "name": "stdout",
     "output_type": "stream",
     "text": [
      "6765\n",
      "21891\n"
     ]
    }
   ],
   "source": [
    "my_dict = {}\n",
    "num_calls = 0\n",
    "def fib_slow(n):\n",
    "    global num_calls\n",
    "    num_calls += 1\n",
    "    if n == 0: \n",
    "        return 0\n",
    "    if n == 1: \n",
    "        return 1\n",
    "    return fib_slow(n-1) + fib_slow(n-2)\n",
    "    \n",
    "print(fib_slow(20))  \n",
    "print(num_calls)"
   ]
  },
  {
   "cell_type": "code",
   "execution_count": 5,
   "metadata": {},
   "outputs": [
    {
     "data": {
      "text/html": [
       "<div>\n",
       "<style scoped>\n",
       "    .dataframe tbody tr th:only-of-type {\n",
       "        vertical-align: middle;\n",
       "    }\n",
       "\n",
       "    .dataframe tbody tr th {\n",
       "        vertical-align: top;\n",
       "    }\n",
       "\n",
       "    .dataframe thead th {\n",
       "        text-align: right;\n",
       "    }\n",
       "</style>\n",
       "<table border=\"1\" class=\"dataframe\">\n",
       "  <thead>\n",
       "    <tr style=\"text-align: right;\">\n",
       "      <th></th>\n",
       "      <th>Animal</th>\n",
       "      <th>Max Speed</th>\n",
       "    </tr>\n",
       "  </thead>\n",
       "  <tbody>\n",
       "    <tr>\n",
       "      <th>0</th>\n",
       "      <td>Falcon</td>\n",
       "      <td>380.0</td>\n",
       "    </tr>\n",
       "    <tr>\n",
       "      <th>1</th>\n",
       "      <td>Falcon</td>\n",
       "      <td>370.0</td>\n",
       "    </tr>\n",
       "    <tr>\n",
       "      <th>2</th>\n",
       "      <td>Parrot</td>\n",
       "      <td>24.0</td>\n",
       "    </tr>\n",
       "    <tr>\n",
       "      <th>3</th>\n",
       "      <td>Parrot</td>\n",
       "      <td>26.0</td>\n",
       "    </tr>\n",
       "  </tbody>\n",
       "</table>\n",
       "</div>"
      ],
      "text/plain": [
       "   Animal  Max Speed\n",
       "0  Falcon      380.0\n",
       "1  Falcon      370.0\n",
       "2  Parrot       24.0\n",
       "3  Parrot       26.0"
      ]
     },
     "execution_count": 5,
     "metadata": {},
     "output_type": "execute_result"
    }
   ],
   "source": [
    "import pandas as pd\n",
    "df = pd.DataFrame({'Animal': ['Falcon', 'Falcon',\n",
    "                              'Parrot', 'Parrot'],\n",
    "                   'Max Speed': [380., 370., 24., 26.]})\n",
    "df"
   ]
  },
  {
   "cell_type": "code",
   "execution_count": 6,
   "metadata": {},
   "outputs": [
    {
     "data": {
      "text/html": [
       "<div>\n",
       "<style scoped>\n",
       "    .dataframe tbody tr th:only-of-type {\n",
       "        vertical-align: middle;\n",
       "    }\n",
       "\n",
       "    .dataframe tbody tr th {\n",
       "        vertical-align: top;\n",
       "    }\n",
       "\n",
       "    .dataframe thead th {\n",
       "        text-align: right;\n",
       "    }\n",
       "</style>\n",
       "<table border=\"1\" class=\"dataframe\">\n",
       "  <thead>\n",
       "    <tr style=\"text-align: right;\">\n",
       "      <th></th>\n",
       "      <th>Max Speed</th>\n",
       "    </tr>\n",
       "    <tr>\n",
       "      <th>Animal</th>\n",
       "      <th></th>\n",
       "    </tr>\n",
       "  </thead>\n",
       "  <tbody>\n",
       "    <tr>\n",
       "      <th>Falcon</th>\n",
       "      <td>375.0</td>\n",
       "    </tr>\n",
       "    <tr>\n",
       "      <th>Parrot</th>\n",
       "      <td>25.0</td>\n",
       "    </tr>\n",
       "  </tbody>\n",
       "</table>\n",
       "</div>"
      ],
      "text/plain": [
       "        Max Speed\n",
       "Animal           \n",
       "Falcon      375.0\n",
       "Parrot       25.0"
      ]
     },
     "execution_count": 6,
     "metadata": {},
     "output_type": "execute_result"
    }
   ],
   "source": [
    "df.groupby(['Animal'],dropna = False).mean()"
   ]
  },
  {
   "cell_type": "code",
   "execution_count": null,
   "metadata": {},
   "outputs": [],
   "source": []
  }
 ],
 "metadata": {
  "kernelspec": {
   "display_name": "Python 3",
   "language": "python",
   "name": "python3"
  },
  "language_info": {
   "codemirror_mode": {
    "name": "ipython",
    "version": 3
   },
   "file_extension": ".py",
   "mimetype": "text/x-python",
   "name": "python",
   "nbconvert_exporter": "python",
   "pygments_lexer": "ipython3",
   "version": "3.7.7"
  }
 },
 "nbformat": 4,
 "nbformat_minor": 4
}
