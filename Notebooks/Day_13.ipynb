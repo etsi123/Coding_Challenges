{
 "cells": [
  {
   "cell_type": "markdown",
   "metadata": {},
   "source": [
    "## Pascal triangle problem: for a given positive integer, numRows, print the first numRows of Pascal Triangle"
   ]
  },
  {
   "cell_type": "code",
   "execution_count": 2,
   "metadata": {},
   "outputs": [
    {
     "name": "stdout",
     "output_type": "stream",
     "text": [
      "[1]\n"
     ]
    },
    {
     "data": {
      "text/plain": [
       "[1]"
      ]
     },
     "execution_count": 2,
     "metadata": {},
     "output_type": "execute_result"
    }
   ],
   "source": [
    "def pascalTriangle(numRows): \n",
    "    if numRows < 0: #Ensure valid entry. \n",
    "        print('Invalid numRows') \n",
    "        return \n",
    "    if numRows == 0: #Base case. If we reach zero, return [1]. \n",
    "        sol = [1]\n",
    "        print(sol)\n",
    "        return sol \n",
    "    list_before = pascalTriangle(numRows-1) #Return the list before\n",
    "    inner_list = [1] #First entry in new row is always 1. \n",
    "    for i in range(0,len(list_before)-1): \n",
    "        innerSum = list_before[i] + list_before[i+1] #Inner part is just the sum of the elements in the row above. \n",
    "        inner_list.append(innerSum)\n",
    "    inner_list.append(1) #last entry in row is always 1. \n",
    "    print(inner_list) \n",
    "    return inner_list\n",
    "pascalTriangle(0)"
   ]
  },
  {
   "cell_type": "code",
   "execution_count": null,
   "metadata": {},
   "outputs": [],
   "source": []
  }
 ],
 "metadata": {
  "kernelspec": {
   "display_name": "Python 3",
   "language": "python",
   "name": "python3"
  },
  "language_info": {
   "codemirror_mode": {
    "name": "ipython",
    "version": 3
   },
   "file_extension": ".py",
   "mimetype": "text/x-python",
   "name": "python",
   "nbconvert_exporter": "python",
   "pygments_lexer": "ipython3",
   "version": "3.7.7"
  }
 },
 "nbformat": 4,
 "nbformat_minor": 4
}
