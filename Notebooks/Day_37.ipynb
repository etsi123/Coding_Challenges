{
 "cells": [
  {
   "cell_type": "markdown",
   "metadata": {},
   "source": [
    "## Binary Search \n",
    "Search a sorted array by repeatedly dividing the search interval in half. Begin with an interval covering the whole array. If the value of the search key is less than the item in the middle of the interval, narrow the interval to the lower half. Otherwise narrow it to the upper half. Repeatedly check until the value is found or the interval is empty."
   ]
  },
  {
   "cell_type": "code",
   "execution_count": 1,
   "metadata": {},
   "outputs": [
    {
     "name": "stdout",
     "output_type": "stream",
     "text": [
      "1\n",
      "Number of calls is 3\n",
      "2\n",
      "Number of calls is 1\n"
     ]
    }
   ],
   "source": [
    "numCalls = 0\n",
    "def binarySearch (input_array, lowerBound, upperBound, target): \n",
    "    global numCalls\n",
    "    numCalls += 1\n",
    "    #if upperBound>=lowerBound, we can loook to see if present. \n",
    "    if upperBound >= lowerBound: \n",
    "        mid = lowerBound + (upperBound - lowerBound) // 2 #middle index of the array\n",
    "        if input_array[mid] == target: #if it is equal we are done. \n",
    "            return mid \n",
    "        if input_array[mid] > target: #check above part of the array\n",
    "            return binarySearch(input_array, lowerBound, mid-1, target)\n",
    "        if input_array[mid] < target: #check lower part of the array\n",
    "            return binarySearch(input_array, mid + 1, upperBound, target)\n",
    "\n",
    "#Driver code        \n",
    "input_array = [ 20, 40, 50, 90, 100]\n",
    "last_index = len(input_array)-1\n",
    "\n",
    "numCalls = 0\n",
    "print(binarySearch(input_array , 0, last_index, 40)) \n",
    "print('Number of calls is ' + str(numCalls))\n",
    "numCalls = 0\n",
    "print(binarySearch(input_array , 0, last_index, 50)) \n",
    "print('Number of calls is ' + str(numCalls))"
   ]
  },
  {
   "cell_type": "code",
   "execution_count": null,
   "metadata": {},
   "outputs": [],
   "source": []
  }
 ],
 "metadata": {
  "kernelspec": {
   "display_name": "Python 3",
   "language": "python",
   "name": "python3"
  },
  "language_info": {
   "codemirror_mode": {
    "name": "ipython",
    "version": 3
   },
   "file_extension": ".py",
   "mimetype": "text/x-python",
   "name": "python",
   "nbconvert_exporter": "python",
   "pygments_lexer": "ipython3",
   "version": "3.7.7"
  }
 },
 "nbformat": 4,
 "nbformat_minor": 2
}
