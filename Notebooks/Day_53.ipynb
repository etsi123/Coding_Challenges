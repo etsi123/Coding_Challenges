{
 "cells": [
  {
   "cell_type": "markdown",
   "metadata": {},
   "source": [
    "## Given a list of tweets, find the most common hashtags. "
   ]
  },
  {
   "cell_type": "code",
   "execution_count": 10,
   "metadata": {},
   "outputs": [],
   "source": [
    "import re\n",
    "\n",
    "def mostCommonHashtags(input_list): \n",
    "    tweet_dict = {}\n",
    "    for tweet in input_list: \n",
    "        hashtags = re.findall(r\"#(\\w+)\", tweet)\n",
    "        for hashtag in hashtags: #increment dictionary if if we've seen it before. \n",
    "            if hashtag in tweet_dict.keys(): \n",
    "                tweet_dict[hashtag] += 1\n",
    "            else: \n",
    "                tweet_dict[hashtag] = 1\n",
    "    sortedDict = dict(sorted(tweet_dict.items(),reverse=True))\n",
    "    print(sortedDict) #print the dict to show the results if interested. \n",
    "    return list(sortedDict.keys())[0] #return the most common tweet.   "
   ]
  },
  {
   "cell_type": "code",
   "execution_count": 11,
   "metadata": {},
   "outputs": [
    {
     "name": "stdout",
     "output_type": "stream",
     "text": [
      "{'LeBronistheGOAT': 3, 'FUN': 1}\n"
     ]
    },
    {
     "data": {
      "text/plain": [
       "'LeBronistheGOAT'"
      ]
     },
     "execution_count": 11,
     "metadata": {},
     "output_type": "execute_result"
    }
   ],
   "source": [
    "input_list = ['Lakers win 2020 chip #LeBronistheGOAT #FUN','#LeBronistheGOAT','I love Basketball #LeBronistheGOAT']\n",
    "mostCommonHashtags(input_list)"
   ]
  },
  {
   "cell_type": "code",
   "execution_count": null,
   "metadata": {},
   "outputs": [],
   "source": []
  }
 ],
 "metadata": {
  "kernelspec": {
   "display_name": "Python 3",
   "language": "python",
   "name": "python3"
  },
  "language_info": {
   "codemirror_mode": {
    "name": "ipython",
    "version": 3
   },
   "file_extension": ".py",
   "mimetype": "text/x-python",
   "name": "python",
   "nbconvert_exporter": "python",
   "pygments_lexer": "ipython3",
   "version": "3.7.7"
  }
 },
 "nbformat": 4,
 "nbformat_minor": 4
}
