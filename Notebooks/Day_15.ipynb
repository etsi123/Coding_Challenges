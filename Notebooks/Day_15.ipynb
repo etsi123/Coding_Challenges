{
 "cells": [
  {
   "cell_type": "markdown",
   "metadata": {},
   "source": [
    "## Given an array nums, write a function to move all 0's to the end of it while maintaining the relative order of the non-zero elements.\n",
    "You must do this in-place without making a copy of the array."
   ]
  },
  {
   "cell_type": "code",
   "execution_count": 1,
   "metadata": {},
   "outputs": [],
   "source": [
    "def moveZeros(input_array): \n",
    "    num_elements = len(input_array) #number of elements in array. \n",
    "    counter = 0 #count number of zeros so we can subtract from the index and not evaluate a second time. \n",
    "    num_iterations = 0 #count number of iterations. \n",
    "    for i in range(0,num_elements): \n",
    "        j = i-counter #true index, accounting for the fact that we are changing the array in the if statement. \n",
    "        num_iterations += 1 \n",
    "        if input_array[j] == 0: #if the value is 0. \n",
    "            del input_array[j] #delete current 0\n",
    "            input_array.append(0) #append 0 to the end. \n",
    "            counter = counter + 1 #account for the fact that we added a 0 to the end of the list. \n",
    "    print('Total number of iterations is ' + str(num_iterations))\n",
    "    return input_array"
   ]
  },
  {
   "cell_type": "code",
   "execution_count": 2,
   "metadata": {},
   "outputs": [
    {
     "name": "stdout",
     "output_type": "stream",
     "text": [
      "Total number of iterations is 5\n"
     ]
    },
    {
     "data": {
      "text/plain": [
       "[1, 3, 12, 0, 0]"
      ]
     },
     "execution_count": 2,
     "metadata": {},
     "output_type": "execute_result"
    }
   ],
   "source": [
    "moveZeros([0,1,0,3,12])"
   ]
  },
  {
   "cell_type": "code",
   "execution_count": null,
   "metadata": {},
   "outputs": [],
   "source": []
  }
 ],
 "metadata": {
  "kernelspec": {
   "display_name": "Python 3",
   "language": "python",
   "name": "python3"
  },
  "language_info": {
   "codemirror_mode": {
    "name": "ipython",
    "version": 3
   },
   "file_extension": ".py",
   "mimetype": "text/x-python",
   "name": "python",
   "nbconvert_exporter": "python",
   "pygments_lexer": "ipython3",
   "version": "3.7.7"
  }
 },
 "nbformat": 4,
 "nbformat_minor": 4
}
