{
 "cells": [
  {
   "cell_type": "markdown",
   "metadata": {},
   "source": [
    "## The keyboard row problem. Given a List of words, return the words that can be typed using letters of alphabet on only one row's of American keyboard like the image below."
   ]
  },
  {
   "cell_type": "code",
   "execution_count": 1,
   "metadata": {},
   "outputs": [],
   "source": [
    "def findWords(words):\n",
    "    my_dict = {}\n",
    "    solution = []\n",
    "    topRow = 'qwertyuiop' \n",
    "    midRow = 'asdfghjkl'\n",
    "    botRow = 'zxcvbnm'\n",
    "    for a in topRow:my_dict[a]='TOP' #assign dictionary definition of each char depending upon its row. \n",
    "    for b in midRow: my_dict[b]='MIDDLE'\n",
    "    for c in botRow: my_dict[c]='BOTTOM'\n",
    "    for word in words: \n",
    "        lower = word.lower() #just so upper and lowercase chars are evaluated equally. \n",
    "        temp = []\n",
    "        for char in lower: \n",
    "            temp.append(my_dict[char]) #loop over chars\n",
    "        if len(set(temp)) == 1: #if we have exactly one row present, include it in the solution. \n",
    "            solution.append(word)\n",
    "    return solution          "
   ]
  },
  {
   "cell_type": "code",
   "execution_count": 2,
   "metadata": {},
   "outputs": [
    {
     "data": {
      "text/plain": [
       "['Alaska', 'Dad']"
      ]
     },
     "execution_count": 2,
     "metadata": {},
     "output_type": "execute_result"
    }
   ],
   "source": [
    "findWords([\"Hello\", \"Alaska\", \"Dad\", \"Peace\"])"
   ]
  },
  {
   "cell_type": "code",
   "execution_count": null,
   "metadata": {},
   "outputs": [],
   "source": []
  }
 ],
 "metadata": {
  "kernelspec": {
   "display_name": "Python 3",
   "language": "python",
   "name": "python3"
  },
  "language_info": {
   "codemirror_mode": {
    "name": "ipython",
    "version": 3
   },
   "file_extension": ".py",
   "mimetype": "text/x-python",
   "name": "python",
   "nbconvert_exporter": "python",
   "pygments_lexer": "ipython3",
   "version": "3.7.7"
  }
 },
 "nbformat": 4,
 "nbformat_minor": 4
}
