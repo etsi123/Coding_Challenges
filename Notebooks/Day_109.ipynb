{
 "cells": [
  {
   "cell_type": "markdown",
   "metadata": {},
   "source": [
    "## Replace Elements with Greatest Element on Right Side\n",
    "\n",
    "Given an array arr, replace every element in that array with the greatest element among the elements to its right, and replace the last element with -1.\n",
    "\n",
    "After doing so, return the array."
   ]
  },
  {
   "cell_type": "code",
   "execution_count": 1,
   "metadata": {},
   "outputs": [],
   "source": [
    "def replaceElements(arr): \n",
    "    solution = [] #store the new array. \n",
    "    for i in range(0,len(arr)):  #loop through each element. \n",
    "        if i != len(arr)-1: #if not equal to the last one\n",
    "            solution.append(max(arr[i+1:])) #find the biggest one to the right\n",
    "        else: # append -1\n",
    "            solution.append(-1) #append -1\n",
    "    return solution"
   ]
  },
  {
   "cell_type": "code",
   "execution_count": 2,
   "metadata": {},
   "outputs": [
    {
     "data": {
      "text/plain": [
       "[18, 6, 6, 6, 1, -1]"
      ]
     },
     "execution_count": 2,
     "metadata": {},
     "output_type": "execute_result"
    }
   ],
   "source": [
    "arr = [17,18,5,4,6,1]\n",
    "replaceElements(arr)"
   ]
  },
  {
   "cell_type": "code",
   "execution_count": 3,
   "metadata": {},
   "outputs": [
    {
     "data": {
      "text/plain": [
       "[-1]"
      ]
     },
     "execution_count": 3,
     "metadata": {},
     "output_type": "execute_result"
    }
   ],
   "source": [
    "arr = [400]\n",
    "replaceElements(arr)"
   ]
  },
  {
   "cell_type": "code",
   "execution_count": null,
   "metadata": {},
   "outputs": [],
   "source": []
  }
 ],
 "metadata": {
  "kernelspec": {
   "display_name": "Python 3",
   "language": "python",
   "name": "python3"
  },
  "language_info": {
   "codemirror_mode": {
    "name": "ipython",
    "version": 3
   },
   "file_extension": ".py",
   "mimetype": "text/x-python",
   "name": "python",
   "nbconvert_exporter": "python",
   "pygments_lexer": "ipython3",
   "version": "3.7.7"
  }
 },
 "nbformat": 4,
 "nbformat_minor": 4
}
