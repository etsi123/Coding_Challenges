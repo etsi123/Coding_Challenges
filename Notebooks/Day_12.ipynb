{
 "cells": [
  {
   "cell_type": "markdown",
   "metadata": {},
   "source": [
    "## Say you have an array for which the ith element is the price of a given stock on day i.\n",
    "\n",
    "## If you were only permitted to complete at most one transaction (i.e., buy one and sell one share of the stock), design an algorithm to find the maximum profit.\n",
    "\n",
    "## Note that you cannot sell a stock before you buy one (No shorting) \n",
    "\n",
    "Input: [7,1,5,3,6,4]\n",
    "Output: 5\n",
    "Explanation: Buy on day 2 (price = 1) and sell on day 5 (price = 6), profit = 6-1 = 5.\n",
    "             Not 7-1 = 6, as selling price needs to be larger than buying price.\n",
    "\n",
    "Input: [7,6,4,3,1]\n",
    "Output: 0\n",
    "Explanation: In this case, no transaction is done, i.e. max profit = 0."
   ]
  },
  {
   "cell_type": "code",
   "execution_count": 1,
   "metadata": {},
   "outputs": [
    {
     "name": "stdout",
     "output_type": "stream",
     "text": [
      "Buy when price is $1, sell when price is $6\n",
      "No ideal times to buy/sell\n",
      "Buy when price is $2, sell when price is $8\n"
     ]
    }
   ],
   "source": [
    "def stockProblem(stockTrend): \n",
    "    num_elements = len(stockTrend) #Number of days in the time period\n",
    "    low = stockTrend[0] #Initialize low and high prices. \n",
    "    high = stockTrend[0]\n",
    "    max_diff = 0 #maximum difference between \n",
    "    for i in range(1,num_elements): \n",
    "        potentialHigh = max(stockTrend[i:]) #Include high prices in the future\n",
    "        potentialLow = stockTrend[i] #current day is the potentialLow. Anything smaller than it will be \n",
    "                                    #rejected by next line\n",
    "        if potentialHigh - potentialLow > max_diff: #if greater than current max\n",
    "            high,low = potentialHigh,stockTrend[i] #new high/low combination\n",
    "            max_diff = high-low #new max_diff to check\n",
    "    if high > low: #if high>low, then we can proceed. \n",
    "        print('Buy when price is $' + str(low) + ', sell when price is $' + str(high))\n",
    "    else: \n",
    "        print('No ideal times to buy/sell')\n",
    "stockProblem( [7,1,5,3,6,4])\n",
    "stockProblem([7,6,4,3,1])\n",
    "stockProblem([3,2,8,1,2])"
   ]
  }
 ],
 "metadata": {
  "kernelspec": {
   "display_name": "Python 3",
   "language": "python",
   "name": "python3"
  },
  "language_info": {
   "codemirror_mode": {
    "name": "ipython",
    "version": 3
   },
   "file_extension": ".py",
   "mimetype": "text/x-python",
   "name": "python",
   "nbconvert_exporter": "python",
   "pygments_lexer": "ipython3",
   "version": "3.7.7"
  }
 },
 "nbformat": 4,
 "nbformat_minor": 4
}
