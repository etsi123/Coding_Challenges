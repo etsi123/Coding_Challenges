{
 "cells": [
  {
   "cell_type": "markdown",
   "metadata": {},
   "source": [
    "## Magic square in grid \n",
    "\n",
    "A 3 x 3 magic square is a 3 x 3 grid filled with distinct numbers from 1 to 9 such that each row, column, and both diagonals all have the same sum."
   ]
  },
  {
   "cell_type": "code",
   "execution_count": 1,
   "metadata": {},
   "outputs": [],
   "source": [
    "import numpy as np\n",
    "def checkMagicSquare(square):\n",
    "    square = np.array(square)\n",
    "    possibleSum = square[0,:].sum() #initialize what the sum of every row should be. \n",
    "    \n",
    "    for i in range(1,square.shape[0]): #check sum of every row. \n",
    "        if square[i,:].sum() != possibleSum: \n",
    "            print('here')\n",
    "            return False\n",
    "    for j in range(0,square.shape[1]): #check sum of every column. \n",
    "        if square[:,j].sum() != possibleSum:\n",
    "            return False\n",
    "    if square.diagonal().sum() != possibleSum: #check first diagonal. \n",
    "        return False\n",
    "    \n",
    "    if np.fliplr(square).diagonal().sum() != possibleSum: #check second diagonal. \n",
    "        return False\n",
    "    \n",
    "    return True"
   ]
  },
  {
   "cell_type": "code",
   "execution_count": 2,
   "metadata": {},
   "outputs": [
    {
     "data": {
      "text/plain": [
       "True"
      ]
     },
     "execution_count": 2,
     "metadata": {},
     "output_type": "execute_result"
    }
   ],
   "source": [
    "square = [[4,3,8],[9,5,1],[2,7,6]]\n",
    "checkMagicSquare(square)"
   ]
  },
  {
   "cell_type": "code",
   "execution_count": 3,
   "metadata": {},
   "outputs": [
    {
     "data": {
      "text/plain": [
       "False"
      ]
     },
     "execution_count": 3,
     "metadata": {},
     "output_type": "execute_result"
    }
   ],
   "source": [
    "square = [[3,8,4],[5,1,9],[7,6,2]]\n",
    "checkMagicSquare(square)"
   ]
  },
  {
   "cell_type": "code",
   "execution_count": null,
   "metadata": {},
   "outputs": [],
   "source": []
  }
 ],
 "metadata": {
  "kernelspec": {
   "display_name": "Python 3",
   "language": "python",
   "name": "python3"
  },
  "language_info": {
   "codemirror_mode": {
    "name": "ipython",
    "version": 3
   },
   "file_extension": ".py",
   "mimetype": "text/x-python",
   "name": "python",
   "nbconvert_exporter": "python",
   "pygments_lexer": "ipython3",
   "version": "3.7.7"
  }
 },
 "nbformat": 4,
 "nbformat_minor": 4
}
