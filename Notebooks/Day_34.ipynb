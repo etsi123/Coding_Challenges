{
 "cells": [
  {
   "cell_type": "markdown",
   "metadata": {},
   "source": [
    "## Generate all permutation of a set in Python"
   ]
  },
  {
   "cell_type": "code",
   "execution_count": 1,
   "metadata": {},
   "outputs": [
    {
     "data": {
      "text/plain": [
       "['123', '132', '213', '231', '312', '321']"
      ]
     },
     "execution_count": 1,
     "metadata": {},
     "output_type": "execute_result"
    }
   ],
   "source": [
    "def permutation(input_list): \n",
    "    if len(input_list) == 0: return []\n",
    "    if len(input_list) == 1: return input_list\n",
    "    solution = []\n",
    "    for i in range(0,len(input_list)): \n",
    "        remainingList = input_list[:i] + input_list[i+1:] #remove current element from the list. \n",
    "        permOfRemainingList = permutation(remainingList) #permute the rest of the them. \n",
    "        for j in permOfRemainingList: #append the new solutions to the current element. \n",
    "            solution.append(input_list[i] + j)\n",
    "    return solution \n",
    "        \n",
    "permutation(['1','2','3'])"
   ]
  },
  {
   "cell_type": "code",
   "execution_count": null,
   "metadata": {},
   "outputs": [],
   "source": []
  }
 ],
 "metadata": {
  "kernelspec": {
   "display_name": "Python 3",
   "language": "python",
   "name": "python3"
  },
  "language_info": {
   "codemirror_mode": {
    "name": "ipython",
    "version": 3
   },
   "file_extension": ".py",
   "mimetype": "text/x-python",
   "name": "python",
   "nbconvert_exporter": "python",
   "pygments_lexer": "ipython3",
   "version": "3.7.7"
  }
 },
 "nbformat": 4,
 "nbformat_minor": 4
}
