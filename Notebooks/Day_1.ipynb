{
 "cells": [
  {
   "cell_type": "markdown",
   "metadata": {},
   "source": [
    "## Given two strings A and B, if we can change two characters to make them the same - return true. else return false. "
   ]
  },
  {
   "cell_type": "code",
   "execution_count": 1,
   "metadata": {},
   "outputs": [],
   "source": [
    "def sim_strings(A,B): \n",
    "    #Strings must be of the same length. \n",
    "    if len(A) != len(B):\n",
    "        print('strings of different length')\n",
    "        return False\n",
    "    \n",
    "    #loop over each character of each string, marking the number of differences. \n",
    "    false_counter = 0 \n",
    "    for c1,c2 in zip(A,B): \n",
    "        if c1 != c2: \n",
    "            false_counter = false_counter + 1\n",
    "    \n",
    "    #If number of differences = 2, return true. We can also include cases where the strings are equal. \n",
    "    if false_counter == 2: \n",
    "        print('These strings are different by only 2 characters!')\n",
    "        return True\n",
    "    else:\n",
    "        return False"
   ]
  },
  {
   "cell_type": "code",
   "execution_count": 2,
   "metadata": {},
   "outputs": [
    {
     "name": "stdout",
     "output_type": "stream",
     "text": [
      "These strings are different by only 2 characters!\n"
     ]
    },
    {
     "data": {
      "text/plain": [
       "True"
      ]
     },
     "execution_count": 2,
     "metadata": {},
     "output_type": "execute_result"
    }
   ],
   "source": [
    "sim_strings('LeBron James is the GOAT','JeBron Lames is the GOAT')"
   ]
  }
 ],
 "metadata": {
  "kernelspec": {
   "display_name": "Python 3",
   "language": "python",
   "name": "python3"
  },
  "language_info": {
   "codemirror_mode": {
    "name": "ipython",
    "version": 3
   },
   "file_extension": ".py",
   "mimetype": "text/x-python",
   "name": "python",
   "nbconvert_exporter": "python",
   "pygments_lexer": "ipython3",
   "version": "3.7.7"
  }
 },
 "nbformat": 4,
 "nbformat_minor": 4
}
