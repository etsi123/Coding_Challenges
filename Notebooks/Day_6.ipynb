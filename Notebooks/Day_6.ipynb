{
 "cells": [
  {
   "cell_type": "markdown",
   "metadata": {},
   "source": [
    "## bubblesort: One of the simplest sorting algorithms, we continuously swap adjacent elements if they are in the wrong order until the list is sorted."
   ]
  },
  {
   "cell_type": "code",
   "execution_count": 1,
   "metadata": {},
   "outputs": [],
   "source": [
    "def bubbleSort(input_list): \n",
    "    num_elements = len(input_list) #Number of elements in list.\n",
    "    iter_counter = 0 #Number of iterations counter.\n",
    "    sorted_flag = False #Is the input_list sorted. \n",
    "    while sorted_flag != True: #As long as the list is unsorted. \n",
    "        sorted_flag = True #Switch to true so we can exit if array is sorted.\n",
    "        for i in range(0,num_elements-1): #loop through all elements except the last one. \n",
    "            iter_counter = iter_counter + 1 \n",
    "            if input_list[i+1] < input_list[i]: #If we detect unsorted adjacent pair, swap them. \n",
    "                input_list[i],input_list[i+1] = input_list[i+1],input_list[i]#code for swapping pair\n",
    "                sorted_flag = False #unsortedness detected, it is possible more mistakes exist so this is set to false. \n",
    "    print('Number of iterations is : ' + str(iter_counter))#print number of iterations\n",
    "    return input_list  "
   ]
  },
  {
   "cell_type": "code",
   "execution_count": 2,
   "metadata": {},
   "outputs": [
    {
     "name": "stdout",
     "output_type": "stream",
     "text": [
      "Number of iterations is : 64\n"
     ]
    },
    {
     "data": {
      "text/plain": [
       "[10, 11, 14, 16, 27, 33, 35, 91, 97]"
      ]
     },
     "execution_count": 2,
     "metadata": {},
     "output_type": "execute_result"
    }
   ],
   "source": [
    "bubbleSort([14,91,33,97,27,35,16,10,11,])"
   ]
  },
  {
   "cell_type": "code",
   "execution_count": null,
   "metadata": {},
   "outputs": [],
   "source": []
  }
 ],
 "metadata": {
  "kernelspec": {
   "display_name": "Python 3",
   "language": "python",
   "name": "python3"
  },
  "language_info": {
   "codemirror_mode": {
    "name": "ipython",
    "version": 3
   },
   "file_extension": ".py",
   "mimetype": "text/x-python",
   "name": "python",
   "nbconvert_exporter": "python",
   "pygments_lexer": "ipython3",
   "version": "3.7.7"
  }
 },
 "nbformat": 4,
 "nbformat_minor": 4
}
