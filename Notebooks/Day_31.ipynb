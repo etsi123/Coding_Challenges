{
 "cells": [
  {
   "cell_type": "markdown",
   "metadata": {},
   "source": [
    "## Find minimum number of coins that make a given value\n"
   ]
  },
  {
   "cell_type": "code",
   "execution_count": 2,
   "metadata": {},
   "outputs": [],
   "source": [
    "def minCoins(target): \n",
    "    coin_dict = {0.01:'penny',0.05:'nickel',0.10:'dime',0.25:'quarter'} #dictionary of coin values\n",
    "    if target <0.00001: #target is == 0, then we are done. \n",
    "        return solution\n",
    "    \n",
    "    if target <0.05: #target is less than a nickel, must use pennies. \n",
    "        solution.append('penny')\n",
    "        target = target - 0.01\n",
    "    elif target>=0.05 and target<0.10: #target in this range, we must use a nickel to minimize coins. \n",
    "        solution.append('nickel')\n",
    "        target = target - 0.05\n",
    "    elif target>=0.10 and target<0.25: #target in this range, we must use a dime to minimize coins. \n",
    "        solution.append('dime')\n",
    "        target = target-0.10\n",
    "    else:\n",
    "        solution.append('quarter') #target greater than 25 cents, use quarters. \n",
    "        target = target-0.25\n",
    "    minCoins(target)"
   ]
  },
  {
   "cell_type": "code",
   "execution_count": 9,
   "metadata": {},
   "outputs": [
    {
     "data": {
      "text/plain": [
       "['penny', 'penny']"
      ]
     },
     "execution_count": 9,
     "metadata": {},
     "output_type": "execute_result"
    }
   ],
   "source": [
    "solution=[]\n",
    "minCoins(0.02)\n",
    "solution"
   ]
  },
  {
   "cell_type": "code",
   "execution_count": 4,
   "metadata": {},
   "outputs": [
    {
     "data": {
      "text/plain": [
       "['quarter', 'nickel', 'penny', 'penny', 'penny', 'penny']"
      ]
     },
     "execution_count": 4,
     "metadata": {},
     "output_type": "execute_result"
    }
   ],
   "source": [
    "solution=[]\n",
    "minCoins(0.34)\n",
    "solution"
   ]
  },
  {
   "cell_type": "code",
   "execution_count": 5,
   "metadata": {},
   "outputs": [
    {
     "data": {
      "text/plain": [
       "['quarter', 'dime', 'dime', 'penny', 'penny']"
      ]
     },
     "execution_count": 5,
     "metadata": {},
     "output_type": "execute_result"
    }
   ],
   "source": [
    "solution=[]\n",
    "minCoins(0.47)\n",
    "solution"
   ]
  },
  {
   "cell_type": "code",
   "execution_count": null,
   "metadata": {},
   "outputs": [],
   "source": []
  }
 ],
 "metadata": {
  "kernelspec": {
   "display_name": "Python 3",
   "language": "python",
   "name": "python3"
  },
  "language_info": {
   "codemirror_mode": {
    "name": "ipython",
    "version": 3
   },
   "file_extension": ".py",
   "mimetype": "text/x-python",
   "name": "python",
   "nbconvert_exporter": "python",
   "pygments_lexer": "ipython3",
   "version": "3.7.7"
  }
 },
 "nbformat": 4,
 "nbformat_minor": 4
}
