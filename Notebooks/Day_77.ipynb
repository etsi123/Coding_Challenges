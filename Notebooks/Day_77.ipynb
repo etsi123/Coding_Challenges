{
 "cells": [
  {
   "cell_type": "markdown",
   "metadata": {},
   "source": [
    "## Integer Replacement \n",
    "\n",
    "Given a positive integer n, you can apply one of the following operations:\n",
    "\n",
    "If n is even, replace n with n / 2.\n",
    "If n is odd, replace n with either n + 1 or n - 1.\n",
    "Return the minimum number of operations needed for n to become 1.\n",
    "\n",
    "Input: n = 8\n",
    "Output: 3\n",
    "Explanation: 8 -> 4 -> 2 -> 1\n",
    "    \n",
    "Input: n = 7\n",
    "Output: 4\n",
    "Explanation: 7 -> 8 -> 4 -> 2 -> 1\n",
    "or 7 -> 6 -> 3 -> 2 -> 1"
   ]
  },
  {
   "cell_type": "code",
   "execution_count": 1,
   "metadata": {},
   "outputs": [],
   "source": [
    "import numpy as np\n",
    "def integerReplacement(n,sol): \n",
    "    global my_dict\n",
    "    if n == 1:  #end if we are at 1. \n",
    "        return sol\n",
    "    if n not in my_dict.keys(): #if not seen yet, evaluate. \n",
    "        if np.mod(n,2) == 0: #if even, divide by 2. \n",
    "            my_dict[n] = integerReplacement(int(n/2), 1)\n",
    "        else: #else, which is better, adding 1 or subtracting 1? \n",
    "            my_dict[n] = min(integerReplacement(n-1, 1), integerReplacement(n+1, 1))\n",
    "    return my_dict[n] + sol      "
   ]
  },
  {
   "cell_type": "code",
   "execution_count": 2,
   "metadata": {
    "scrolled": true
   },
   "outputs": [
    {
     "data": {
      "text/plain": [
       "3"
      ]
     },
     "execution_count": 2,
     "metadata": {},
     "output_type": "execute_result"
    }
   ],
   "source": [
    "my_dict = {}\n",
    "integerReplacement(8,0)"
   ]
  },
  {
   "cell_type": "code",
   "execution_count": 3,
   "metadata": {},
   "outputs": [
    {
     "data": {
      "text/plain": [
       "4"
      ]
     },
     "execution_count": 3,
     "metadata": {},
     "output_type": "execute_result"
    }
   ],
   "source": [
    "my_dict = {}\n",
    "integerReplacement(7,0)"
   ]
  },
  {
   "cell_type": "code",
   "execution_count": 4,
   "metadata": {},
   "outputs": [
    {
     "data": {
      "text/plain": [
       "2"
      ]
     },
     "execution_count": 4,
     "metadata": {},
     "output_type": "execute_result"
    }
   ],
   "source": [
    "my_dict = {}\n",
    "integerReplacement(4,0)"
   ]
  },
  {
   "cell_type": "code",
   "execution_count": 5,
   "metadata": {},
   "outputs": [
    {
     "data": {
      "text/plain": [
       "6"
      ]
     },
     "execution_count": 5,
     "metadata": {},
     "output_type": "execute_result"
    }
   ],
   "source": [
    "my_dict = {}\n",
    "integerReplacement(25,0)"
   ]
  },
  {
   "cell_type": "code",
   "execution_count": null,
   "metadata": {},
   "outputs": [],
   "source": []
  },
  {
   "cell_type": "code",
   "execution_count": null,
   "metadata": {},
   "outputs": [],
   "source": []
  }
 ],
 "metadata": {
  "kernelspec": {
   "display_name": "Python 3",
   "language": "python",
   "name": "python3"
  },
  "language_info": {
   "codemirror_mode": {
    "name": "ipython",
    "version": 3
   },
   "file_extension": ".py",
   "mimetype": "text/x-python",
   "name": "python",
   "nbconvert_exporter": "python",
   "pygments_lexer": "ipython3",
   "version": "3.7.7"
  }
 },
 "nbformat": 4,
 "nbformat_minor": 4
}
