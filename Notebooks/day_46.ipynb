{
 "cells": [
  {
   "cell_type": "markdown",
   "metadata": {},
   "source": [
    "## Given n dice each with m faces, numbered from 1 to m, find the number of ways to get sum X. X is the summation of values on each face when all the dice are thrown."
   ]
  },
  {
   "cell_type": "markdown",
   "metadata": {},
   "source": [
    "## idea here is that if we consider n_numbers = 3 (3 dice), m_faces = 6 (6-sided die), and a target of x_sum = 8 then  \n",
    "findWays (6,3,8) = findways(6,2,7) + findways(6,2,6) + ... + findways(6,2,2) since we must roll a 1-6 with one of the dice. Then we have to evaluate each of these terms, noting that the solution for some of them will require repeated\n",
    "calculations. Therefore, we can implement dynamic programming to avoid repeated calculations. "
   ]
  },
  {
   "cell_type": "code",
   "execution_count": 6,
   "metadata": {},
   "outputs": [],
   "source": [
    "my_dict = {}\n",
    "def numWaysDice(m_faces,n_numbers,x_sum):\n",
    "    global my_dict #dictionary to store what has already been seen. \n",
    "    solution = 0 #initialize solution to 0. \n",
    "    if n_numbers > 1: #if n_numbers > 1: then we can reduce problem further. \n",
    "        for i in range(n_numbers-1,x_sum): #loop over all elements in the sum (see explanation above)\n",
    "            input_string = str([m_faces,n_numbers-1,i]) \n",
    "            if input_string not in my_dict.keys():  #if we have not already seen this value, solve for it. \n",
    "                my_dict[input_string] = numWaysDice(m_faces,n_numbers-1,i)\n",
    "            solution += my_dict[input_string] #look upn what to add. \n",
    "    if n_numbers == 1: return 1 #only one way to do it. \n",
    "    return solution   "
   ]
  },
  {
   "cell_type": "code",
   "execution_count": 7,
   "metadata": {},
   "outputs": [
    {
     "name": "stdout",
     "output_type": "stream",
     "text": [
      "0\n",
      "2\n",
      "21\n",
      "4\n",
      "6\n"
     ]
    }
   ],
   "source": [
    "print(numWaysDice(4,2,1)) \n",
    "print(numWaysDice(2,2,3)) \n",
    "print(numWaysDice(6,3,8)) \n",
    "print(numWaysDice(4,2,5)) \n",
    "print(numWaysDice(4,3,5))"
   ]
  },
  {
   "cell_type": "markdown",
   "metadata": {},
   "source": []
  },
  {
   "cell_type": "code",
   "execution_count": null,
   "metadata": {},
   "outputs": [],
   "source": []
  }
 ],
 "metadata": {
  "kernelspec": {
   "display_name": "Python 3",
   "language": "python",
   "name": "python3"
  },
  "language_info": {
   "codemirror_mode": {
    "name": "ipython",
    "version": 3
   },
   "file_extension": ".py",
   "mimetype": "text/x-python",
   "name": "python",
   "nbconvert_exporter": "python",
   "pygments_lexer": "ipython3",
   "version": "3.7.7"
  }
 },
 "nbformat": 4,
 "nbformat_minor": 4
}
