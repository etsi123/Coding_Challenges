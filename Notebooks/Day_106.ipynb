{
 "cells": [
  {
   "cell_type": "markdown",
   "metadata": {},
   "source": [
    "## Rearrange Words in a Sentence\n",
    "\n",
    "Given a sentence text (A sentence is a string of space-separated words) in the following format:\n",
    "\n",
    "First letter is in upper case.\n",
    "Each word in text are separated by a single space.\n",
    "Your task is to rearrange the words in text such that all words are rearranged in an increasing order of their lengths.\n",
    "\n",
    "Return the new text following the format shown above."
   ]
  },
  {
   "cell_type": "code",
   "execution_count": 1,
   "metadata": {},
   "outputs": [],
   "source": [
    "def arrangeWords(text):\n",
    "    text = text.split(' ') #split the string into a list of words. \n",
    "    my_dict = {} #dictionary to store values. \n",
    "    for word in text:\n",
    "        my_dict[word] = len(word) #populate dictionary with number of characters in string. \n",
    "    my_dict = {k: v for k, v in sorted(my_dict.items(), key=lambda item: item[1])} #sort by value. \n",
    "    return list(my_dict.keys()) #return the list of words. "
   ]
  },
  {
   "cell_type": "code",
   "execution_count": 2,
   "metadata": {},
   "outputs": [
    {
     "data": {
      "text/plain": [
       "['is', 'cool', 'Leetcode']"
      ]
     },
     "execution_count": 2,
     "metadata": {},
     "output_type": "execute_result"
    }
   ],
   "source": [
    "arrangeWords(\"Leetcode is cool\")"
   ]
  },
  {
   "cell_type": "code",
   "execution_count": 3,
   "metadata": {},
   "outputs": [
    {
     "data": {
      "text/plain": [
       "['on', 'and', 'Keep', 'calm', 'code']"
      ]
     },
     "execution_count": 3,
     "metadata": {},
     "output_type": "execute_result"
    }
   ],
   "source": [
    "arrangeWords(\"Keep calm and code on\")"
   ]
  }
 ],
 "metadata": {
  "kernelspec": {
   "display_name": "Python 3",
   "language": "python",
   "name": "python3"
  },
  "language_info": {
   "codemirror_mode": {
    "name": "ipython",
    "version": 3
   },
   "file_extension": ".py",
   "mimetype": "text/x-python",
   "name": "python",
   "nbconvert_exporter": "python",
   "pygments_lexer": "ipython3",
   "version": "3.7.7"
  }
 },
 "nbformat": 4,
 "nbformat_minor": 4
}
