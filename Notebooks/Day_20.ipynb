{
 "cells": [
  {
   "cell_type": "markdown",
   "metadata": {},
   "source": [
    "## Valid sudoku problem: Determine if a 9 x 9 Sudoku board is valid. Only the filled cells need to be validated according to the following rules:\n",
    "\n",
    "Each row must contain the digits 1-9 without repetition.\n",
    "Each column must contain the digits 1-9 without repetition.\n",
    "Each of the nine 3 x 3 sub-boxes of the grid must contain the digits 1-9 without repetition."
   ]
  },
  {
   "cell_type": "code",
   "execution_count": 1,
   "metadata": {},
   "outputs": [
    {
     "data": {
      "text/plain": [
       "True"
      ]
     },
     "execution_count": 1,
     "metadata": {},
     "output_type": "execute_result"
    }
   ],
   "source": [
    "import numpy as np\n",
    "def checkEntry(row): #Helpher function to check if entry row has duplicate entries (OK if they are empty spaces)\n",
    "    u, c = np.unique(row, return_counts=True)\n",
    "    dup = u[c > 1]\n",
    "    if dup.shape[0]>1: #if greater than 1, then theyre is a duplicate number\n",
    "        return False\n",
    "    if dup.shape[0] == 1: #if equals one, check to make sure they are not all the same number. \n",
    "        temp = dup == ['.'] \n",
    "        if temp != True: \n",
    "            return False\n",
    "    return True\n",
    "        \n",
    "def validSud(board): \n",
    "    board = np.asarray(board) \n",
    "    for i in range(0,8): #evaluate each row and column\n",
    "        if checkEntry(board[i,:]) == False: \n",
    "            return False\n",
    "        if checkEntry(board[:,i]) == False: \n",
    "            return False \n",
    "    for i in range(0,8,3):  #evaluate each box. \n",
    "        for j in range(0,8,3): \n",
    "            box = board[i:i+3,j:j+3]\n",
    "            row = np.asarray(box)[0:3,0:3].ravel() #convert box into row to be used for the checkEntry. \n",
    "            if checkEntry(row) == False: \n",
    "                return False             \n",
    "    return True\n",
    "validSud(board = [[\"5\",\"3\",\".\",\".\",\"7\",\".\",\".\",\".\",\".\"]\n",
    ",[\"6\",\".\",\".\",\"1\",\"9\",\"5\",\".\",\".\",\".\"]\n",
    ",[\".\",\"9\",\"8\",\".\",\".\",\".\",\".\",\"6\",\".\"]\n",
    ",[\"8\",\".\",\".\",\".\",\"6\",\".\",\".\",\".\",\"3\"]\n",
    ",[\"4\",\".\",\".\",\"8\",\".\",\"3\",\".\",\".\",\"1\"]\n",
    ",[\"7\",\".\",\".\",\".\",\"2\",\".\",\".\",\".\",\"6\"]\n",
    ",[\".\",\"6\",\".\",\".\",\".\",\".\",\"2\",\"8\",\".\"]\n",
    ",[\".\",\".\",\".\",\"4\",\"1\",\"9\",\".\",\".\",\"5\"]\n",
    ",[\".\",\".\",\".\",\".\",\"8\",\".\",\".\",\"7\",\"9\"]])"
   ]
  },
  {
   "cell_type": "code",
   "execution_count": 2,
   "metadata": {},
   "outputs": [
    {
     "data": {
      "text/plain": [
       "False"
      ]
     },
     "execution_count": 2,
     "metadata": {},
     "output_type": "execute_result"
    }
   ],
   "source": [
    "validSud(board = \n",
    "[[\"8\",\"3\",\".\",\".\",\"7\",\".\",\".\",\".\",\".\"]\n",
    ",[\"6\",\".\",\".\",\"1\",\"9\",\"5\",\".\",\".\",\".\"]\n",
    ",[\".\",\"9\",\"8\",\".\",\".\",\".\",\".\",\"6\",\".\"]\n",
    ",[\"8\",\".\",\".\",\".\",\"6\",\".\",\".\",\".\",\"3\"]\n",
    ",[\"4\",\".\",\".\",\"8\",\".\",\"3\",\".\",\".\",\"1\"]\n",
    ",[\"7\",\".\",\".\",\".\",\"2\",\".\",\".\",\".\",\"6\"]\n",
    ",[\".\",\"6\",\".\",\".\",\".\",\".\",\"2\",\"8\",\".\"]\n",
    ",[\".\",\".\",\".\",\"4\",\"1\",\"9\",\".\",\".\",\"5\"]\n",
    ",[\".\",\".\",\".\",\".\",\"8\",\".\",\".\",\"7\",\"9\"]])"
   ]
  },
  {
   "cell_type": "code",
   "execution_count": 7,
   "metadata": {},
   "outputs": [],
   "source": [
    "board = [[\"8\",\"3\",\".\",\".\",\"7\",\".\",\".\",\".\",\".\"]\n",
    ",[\"6\",\".\",\".\",\"1\",\"9\",\"5\",\".\",\".\",\".\"]\n",
    ",[\".\",\"9\",\"8\",\".\",\".\",\".\",\".\",\"6\",\".\"]\n",
    ",[\"8\",\".\",\".\",\".\",\"6\",\".\",\".\",\".\",\"3\"]\n",
    ",[\"4\",\".\",\".\",\"8\",\".\",\"3\",\".\",\".\",\"1\"]\n",
    ",[\"7\",\".\",\".\",\".\",\"2\",\".\",\".\",\".\",\"6\"]\n",
    ",[\".\",\"6\",\".\",\".\",\".\",\".\",\"2\",\"8\",\".\"]\n",
    ",[\".\",\".\",\".\",\"4\",\"1\",\"9\",\".\",\".\",\"5\"]\n",
    ",[\".\",\".\",\".\",\".\",\"8\",\".\",\".\",\"7\",\"9\"]]\n",
    "board = np.asarray(board)"
   ]
  },
  {
   "cell_type": "code",
   "execution_count": 8,
   "metadata": {},
   "outputs": [
    {
     "name": "stdout",
     "output_type": "stream",
     "text": [
      "[['8' '3' '.']\n",
      " ['6' '.' '.']\n",
      " ['.' '9' '8']]\n",
      "[['.' '7' '.']\n",
      " ['1' '9' '5']\n",
      " ['.' '.' '.']]\n",
      "[['.' '.' '.']\n",
      " ['.' '.' '.']\n",
      " ['.' '6' '.']]\n",
      "[['8' '.' '.']\n",
      " ['4' '.' '.']\n",
      " ['7' '.' '.']]\n",
      "[['.' '6' '.']\n",
      " ['8' '.' '3']\n",
      " ['.' '2' '.']]\n",
      "[['.' '.' '3']\n",
      " ['.' '.' '1']\n",
      " ['.' '.' '6']]\n",
      "[['.' '6' '.']\n",
      " ['.' '.' '.']\n",
      " ['.' '.' '.']]\n",
      "[['.' '.' '.']\n",
      " ['4' '1' '9']\n",
      " ['.' '8' '.']]\n",
      "[['2' '8' '.']\n",
      " ['.' '.' '5']\n",
      " ['.' '7' '9']]\n"
     ]
    }
   ],
   "source": [
    "for i in range(0,8,3):  #evaluate each box. \n",
    "    for j in range(0,8,3): \n",
    "        box = board[i:i+3,j:j+3]\n",
    "        print(box)"
   ]
  },
  {
   "cell_type": "code",
   "execution_count": null,
   "metadata": {},
   "outputs": [],
   "source": []
  }
 ],
 "metadata": {
  "kernelspec": {
   "display_name": "Python 3",
   "language": "python",
   "name": "python3"
  },
  "language_info": {
   "codemirror_mode": {
    "name": "ipython",
    "version": 3
   },
   "file_extension": ".py",
   "mimetype": "text/x-python",
   "name": "python",
   "nbconvert_exporter": "python",
   "pygments_lexer": "ipython3",
   "version": "3.7.7"
  }
 },
 "nbformat": 4,
 "nbformat_minor": 4
}
