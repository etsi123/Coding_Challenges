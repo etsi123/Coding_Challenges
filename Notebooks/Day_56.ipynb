{
 "cells": [
  {
   "cell_type": "markdown",
   "metadata": {},
   "source": [
    "## Write a code to approximate the square root function. \n",
    "\n",
    "Can be approximated with a first-order taylor expansansion around the perfect square . \n",
    "T(x) = f(x) + f'(a)*(x-a), where a is the nearby perfect square and f(x) =  sqrt(x).\n",
    "f'(x) = 1/(2*sqrt(x)). "
   ]
  },
  {
   "cell_type": "code",
   "execution_count": 1,
   "metadata": {},
   "outputs": [],
   "source": [
    "import numpy as np\n",
    "def nearestPerfSquare(num): #find nearest perfect square. \n",
    "    y_below = np.floor(np.sqrt(num)) \n",
    "    y_above = y_below + 1\n",
    "    \n",
    "    dis1 = np.abs(num - y_below**2) \n",
    "    dis2 = np.abs(num - y_above**2)\n",
    "    \n",
    "    if dis1 < dis2: return y_below #return whichever is closer, y_above if equal. \n",
    "    else: return y_above\n",
    "\n",
    "def approximateSqrtFunc(num): \n",
    "    y = nearestPerfSquare(num) \n",
    "    return y + (1 / (2*y))*(num - y*y) #input into formula"
   ]
  },
  {
   "cell_type": "code",
   "execution_count": 2,
   "metadata": {},
   "outputs": [
    {
     "data": {
      "text/plain": [
       "9.95"
      ]
     },
     "execution_count": 2,
     "metadata": {},
     "output_type": "execute_result"
    }
   ],
   "source": [
    "approximateSqrtFunc(99)"
   ]
  },
  {
   "cell_type": "code",
   "execution_count": 3,
   "metadata": {},
   "outputs": [
    {
     "data": {
      "text/plain": [
       "9.9498743710662"
      ]
     },
     "execution_count": 3,
     "metadata": {},
     "output_type": "execute_result"
    }
   ],
   "source": [
    "np.sqrt(99)"
   ]
  },
  {
   "cell_type": "code",
   "execution_count": null,
   "metadata": {},
   "outputs": [],
   "source": []
  }
 ],
 "metadata": {
  "kernelspec": {
   "display_name": "Python 3",
   "language": "python",
   "name": "python3"
  },
  "language_info": {
   "codemirror_mode": {
    "name": "ipython",
    "version": 3
   },
   "file_extension": ".py",
   "mimetype": "text/x-python",
   "name": "python",
   "nbconvert_exporter": "python",
   "pygments_lexer": "ipython3",
   "version": "3.7.7"
  }
 },
 "nbformat": 4,
 "nbformat_minor": 4
}
