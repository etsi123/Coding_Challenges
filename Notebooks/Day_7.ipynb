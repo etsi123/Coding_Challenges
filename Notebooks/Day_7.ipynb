{
 "cells": [
  {
   "cell_type": "markdown",
   "metadata": {},
   "source": [
    "## Merge two sorted lists problem: Given two sorted lists, create a single new sorted list that combines all of the elements from both of them. "
   ]
  },
  {
   "cell_type": "code",
   "execution_count": 1,
   "metadata": {},
   "outputs": [],
   "source": [
    "#We can certaintly just combine list1 and list2 and then use a python library sorting algorithm to take of this for us,\n",
    "#but this would be inefficient. It would not take into account the fact that both lists are already sorted. \n",
    "#We can leverage that fact to account for this. \n",
    "def mergeTwoSortedLists(list1,list2): \n",
    "    num_elements1 = len(list1)\n",
    "    num_elements2 = len(list2)\n",
    "    i,j=0,0 #initialize index for list1 and list2\n",
    "    sol = [] #append to solution. \n",
    "    iter_counter = 0#count num iterations. \n",
    "    while i < num_elements1 and j < num_elements2: \n",
    "        iter_counter = iter_counter +1\n",
    "        if list1[i] < list2[j]: #Compare corresponding elements in the list we reach the end of one of the list. \n",
    "            sol.append(list1[i])\n",
    "            i = i+1\n",
    "        else:\n",
    "            sol.append(list2[j])\n",
    "            j = j+1\n",
    "    sol = sol + list1[i:] + list2[j:]  #end of one of the two lists, must be the case that the remaining elements \n",
    "                                        #at the end of one of the two lists. \n",
    "    print('Num Iterations : ' + str(iter_counter))\n",
    "    return sol        "
   ]
  },
  {
   "cell_type": "code",
   "execution_count": 2,
   "metadata": {},
   "outputs": [
    {
     "name": "stdout",
     "output_type": "stream",
     "text": [
      "Num Iterations : 5\n"
     ]
    },
    {
     "data": {
      "text/plain": [
       "[1, 2, 3, 4, 5, 6, 8, 9, 11, 13, 14]"
      ]
     },
     "execution_count": 2,
     "metadata": {},
     "output_type": "execute_result"
    }
   ],
   "source": [
    "mergeTwoSortedLists([1,3,4,6,8,9,11,13,14],[2,5])"
   ]
  },
  {
   "cell_type": "code",
   "execution_count": 3,
   "metadata": {},
   "outputs": [
    {
     "name": "stdout",
     "output_type": "stream",
     "text": [
      "Num Iterations : 0\n"
     ]
    },
    {
     "data": {
      "text/plain": [
       "[0]"
      ]
     },
     "execution_count": 3,
     "metadata": {},
     "output_type": "execute_result"
    }
   ],
   "source": [
    "mergeTwoSortedLists([0],[])"
   ]
  },
  {
   "cell_type": "code",
   "execution_count": null,
   "metadata": {},
   "outputs": [],
   "source": []
  }
 ],
 "metadata": {
  "kernelspec": {
   "display_name": "Python 3",
   "language": "python",
   "name": "python3"
  },
  "language_info": {
   "codemirror_mode": {
    "name": "ipython",
    "version": 3
   },
   "file_extension": ".py",
   "mimetype": "text/x-python",
   "name": "python",
   "nbconvert_exporter": "python",
   "pygments_lexer": "ipython3",
   "version": "3.7.7"
  }
 },
 "nbformat": 4,
 "nbformat_minor": 4
}
