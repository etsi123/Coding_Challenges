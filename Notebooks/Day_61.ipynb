{
 "cells": [
  {
   "cell_type": "markdown",
   "metadata": {},
   "source": [
    "## Given a string S that only contains \"I\" (increase) or \"D\" (decrease), let N = S.length.\n",
    "\n",
    "Return any permutation A of [0, 1, ..., N] such that for all i = 0, ..., N-1:\n",
    "\n",
    "If S[i] == \"I\", then A[i] < A[i+1]\n",
    "If S[i] == \"D\", then A[i] > A[i+1]"
   ]
  },
  {
   "cell_type": "code",
   "execution_count": 1,
   "metadata": {},
   "outputs": [],
   "source": [
    "def diStringMatch(input_string): \n",
    "    solution = [0]\n",
    "    counter = 0\n",
    "    for char in input_string: #loop through each character\n",
    "        if char == 'I': \n",
    "            solution.append(solution[counter] + 1) #if \"I\" add 1\n",
    "        elif char == 'D': \n",
    "            solution.append(solution[counter] - 1) \n",
    "        else: \n",
    "            print('invalid input')\n",
    "        counter = counter + 1\n",
    "    return solution"
   ]
  },
  {
   "cell_type": "code",
   "execution_count": 2,
   "metadata": {},
   "outputs": [
    {
     "data": {
      "text/plain": [
       "[0, 1, 0, 1, 0]"
      ]
     },
     "execution_count": 2,
     "metadata": {},
     "output_type": "execute_result"
    }
   ],
   "source": [
    "diStringMatch(\"IDID\")"
   ]
  },
  {
   "cell_type": "code",
   "execution_count": 3,
   "metadata": {},
   "outputs": [
    {
     "data": {
      "text/plain": [
       "[0, 1, 2, 3]"
      ]
     },
     "execution_count": 3,
     "metadata": {},
     "output_type": "execute_result"
    }
   ],
   "source": [
    "diStringMatch(\"III\")"
   ]
  },
  {
   "cell_type": "code",
   "execution_count": 4,
   "metadata": {},
   "outputs": [
    {
     "data": {
      "text/plain": [
       "[0, -1, -2, -1]"
      ]
     },
     "execution_count": 4,
     "metadata": {},
     "output_type": "execute_result"
    }
   ],
   "source": [
    "diStringMatch(\"DDI\")"
   ]
  },
  {
   "cell_type": "code",
   "execution_count": null,
   "metadata": {},
   "outputs": [],
   "source": []
  }
 ],
 "metadata": {
  "kernelspec": {
   "display_name": "Python 3",
   "language": "python",
   "name": "python3"
  },
  "language_info": {
   "codemirror_mode": {
    "name": "ipython",
    "version": 3
   },
   "file_extension": ".py",
   "mimetype": "text/x-python",
   "name": "python",
   "nbconvert_exporter": "python",
   "pygments_lexer": "ipython3",
   "version": "3.7.7"
  }
 },
 "nbformat": 4,
 "nbformat_minor": 4
}
