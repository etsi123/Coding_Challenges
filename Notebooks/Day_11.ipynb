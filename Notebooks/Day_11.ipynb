{
 "cells": [
  {
   "cell_type": "markdown",
   "metadata": {},
   "source": [
    "## Given a non-empty array of integers nums, every element appears twice except for one. Find that single one."
   ]
  },
  {
   "cell_type": "code",
   "execution_count": 1,
   "metadata": {},
   "outputs": [],
   "source": [
    "def singleNumber(input_array): \n",
    "    num_elements = len(input_array) #Number of elements to loop over. \n",
    "    my_dict = {} #Dictionary to keep track of numbers seen\n",
    "    num_iterations = 0 #count number of loop iterations. Should be done in linear time. \n",
    "    for i in range(0,num_elements): \n",
    "        num_iterations = num_iterations+1 \n",
    "        current_num = input_array[i] #Current number. \n",
    "        if current_num in my_dict.keys(): #If present in the dictionary, than it is a duplicate number. \n",
    "            my_dict[current_num] = my_dict[current_num] + 1\n",
    "        else: \n",
    "            my_dict[current_num] = 1 #first appearance of the number\n",
    "    key_list = list(my_dict.keys()) #Keys\n",
    "    val_list = list(my_dict.values()) #values corresponding to those keys.\n",
    "    solution = key_list[val_list.index(1)] #search for the nuimber that only appears once and return it. \n",
    "    print('Number of iterations is : ' + str(num_iterations)) #Number of iterations. \n",
    "    return solution"
   ]
  },
  {
   "cell_type": "code",
   "execution_count": 2,
   "metadata": {},
   "outputs": [
    {
     "name": "stdout",
     "output_type": "stream",
     "text": [
      "Number of iterations is : 9\n"
     ]
    },
    {
     "data": {
      "text/plain": [
       "10"
      ]
     },
     "execution_count": 2,
     "metadata": {},
     "output_type": "execute_result"
    }
   ],
   "source": [
    "singleNumber([1,1,3,5,3,10,5,9,9])"
   ]
  }
 ],
 "metadata": {
  "kernelspec": {
   "display_name": "Python 3",
   "language": "python",
   "name": "python3"
  },
  "language_info": {
   "codemirror_mode": {
    "name": "ipython",
    "version": 3
   },
   "file_extension": ".py",
   "mimetype": "text/x-python",
   "name": "python",
   "nbconvert_exporter": "python",
   "pygments_lexer": "ipython3",
   "version": "3.7.7"
  }
 },
 "nbformat": 4,
 "nbformat_minor": 4
}
