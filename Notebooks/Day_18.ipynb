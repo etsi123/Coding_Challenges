{
 "cells": [
  {
   "cell_type": "markdown",
   "metadata": {},
   "source": [
    "## Longest Palindromic Substring. Given a string s, return the longest palindromic substring in s. \n",
    "\n",
    "Example 1: Input: s = \"babad\"\n",
    "Output: \"bab\"\n",
    "Note: \"aba\" is also a valid answer.\n",
    "Example 2:\n",
    "Input: s = \"cbbd\"\n",
    "Output: \"bb\"\n",
    "Example 3:\n",
    "Input: s = \"a\"\n",
    "Output: \"a\""
   ]
  },
  {
   "cell_type": "code",
   "execution_count": 1,
   "metadata": {},
   "outputs": [],
   "source": [
    "import numpy as np\n",
    "def longestPal(s): \n",
    "    long_string = s[0] #Default: first character is answer\n",
    "    numChars = len(s)\n",
    "    even_flag = 1 #Two cases to check. Case1: \"odd\": palindromoe exists with middle char. \"even\": exists \n",
    "                    #without middle char\n",
    "    for i in range(0,1+even_flag): \n",
    "        for i in range(0,numChars): \n",
    "            currChar = s[i] #current character\n",
    "            counter = 0 \n",
    "            if i+even_flag+counter > numChars-1: break\n",
    "            while s[i-counter] == s[i+even_flag+counter]: #while chars on either side equal, continue checking\n",
    "                sub = s[i-counter:i+counter+1+even_flag]\n",
    "                counter = counter + 1\n",
    "                if len(sub)>len(long_string):\n",
    "                    long_string = sub\n",
    "                if i-counter<0: #break at beginning of string. \n",
    "                    break\n",
    "                if i+counter+even_flag>numChars-1: #break at end of string\n",
    "                    break \n",
    "        even_flag = 0 #switch to second case.\n",
    "    return long_string"
   ]
  },
  {
   "cell_type": "code",
   "execution_count": 2,
   "metadata": {},
   "outputs": [
    {
     "name": "stdout",
     "output_type": "stream",
     "text": [
      "bab|bbb|a|a|oogoo|oooo\n"
     ]
    }
   ],
   "source": [
    "print(longestPal(\"babad\")+'|' +longestPal(\"cbbbd\")+'|' +longestPal(\"ac\")+'|' +\\\n",
    "      longestPal(\"a\")+'|' +longestPal(\"zoogooyx\")+'|' +longestPal(\"ooooade\"))"
   ]
  }
 ],
 "metadata": {
  "kernelspec": {
   "display_name": "Python 3",
   "language": "python",
   "name": "python3"
  },
  "language_info": {
   "codemirror_mode": {
    "name": "ipython",
    "version": 3
   },
   "file_extension": ".py",
   "mimetype": "text/x-python",
   "name": "python",
   "nbconvert_exporter": "python",
   "pygments_lexer": "ipython3",
   "version": "3.7.7"
  }
 },
 "nbformat": 4,
 "nbformat_minor": 4
}
