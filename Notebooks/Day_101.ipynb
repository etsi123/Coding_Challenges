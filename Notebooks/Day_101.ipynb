{
 "cells": [
  {
   "cell_type": "markdown",
   "metadata": {},
   "source": [
    "## Remove All Adjacent Duplicates In String\n",
    "\n",
    "Given a string S of lowercase letters, a duplicate removal consists of choosing two adjacent and equal letters, and removing them.\n",
    "\n",
    "We repeatedly make duplicate removals on S until we no longer can.\n",
    "\n",
    "Return the final string after all such duplicate removals have been made.  It is guaranteed the answer is unique."
   ]
  },
  {
   "cell_type": "code",
   "execution_count": 1,
   "metadata": {},
   "outputs": [],
   "source": [
    "def removeCharByIndex(S,i): #helper function to delete a character by index\n",
    "    return S[0:i] + S[i+1:]\n",
    "    \n",
    "def removeDuplicates(S): \n",
    "    i = 0 #loop through each character\n",
    "    while i < len(S)-1: \n",
    "        if S[i] == S[i+1]: #if adjacent characters are equal\n",
    "            S = removeCharByIndex(S,i+1) #delete both of them. \n",
    "            S = removeCharByIndex(S,i)\n",
    "            i = 0 #reset the index. probably can optimize this so we don't have to start over everytime. \n",
    "        else: \n",
    "            i = i+1 #otherwise increment. \n",
    "    return S  "
   ]
  },
  {
   "cell_type": "code",
   "execution_count": 2,
   "metadata": {},
   "outputs": [
    {
     "data": {
      "text/plain": [
       "'ca'"
      ]
     },
     "execution_count": 2,
     "metadata": {},
     "output_type": "execute_result"
    }
   ],
   "source": [
    "removeDuplicates('abbaca')"
   ]
  },
  {
   "cell_type": "code",
   "execution_count": null,
   "metadata": {},
   "outputs": [],
   "source": []
  }
 ],
 "metadata": {
  "kernelspec": {
   "display_name": "Python 3",
   "language": "python",
   "name": "python3"
  },
  "language_info": {
   "codemirror_mode": {
    "name": "ipython",
    "version": 3
   },
   "file_extension": ".py",
   "mimetype": "text/x-python",
   "name": "python",
   "nbconvert_exporter": "python",
   "pygments_lexer": "ipython3",
   "version": "3.7.7"
  }
 },
 "nbformat": 4,
 "nbformat_minor": 4
}
