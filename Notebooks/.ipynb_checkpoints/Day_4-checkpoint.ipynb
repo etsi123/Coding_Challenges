{
 "cells": [
  {
   "cell_type": "markdown",
   "metadata": {},
   "source": [
    "## Insertion Sort \n",
    "\n",
    "Insertion sort is a simple sorting algorithm that works similar to the way you sort playing cards in your hands. The array is virtually split into a sorted and an unsorted part. Values from the unsorted part are picked and placed at the correct position in the sorted part."
   ]
  },
  {
   "cell_type": "code",
   "execution_count": 1,
   "metadata": {},
   "outputs": [],
   "source": [
    "def insertionSort(array):\n",
    "    num_elements = len(array) \n",
    "    for i in range(1,num_elements): \n",
    "        current_element = array[i]\n",
    "        left = array[0:i]\n",
    "        right = array[i+1:]\n",
    "        print(left)\n",
    "\n",
    "        if current_element < left[0]: \n",
    "            left.insert(0,current_element)\n",
    "        elif current_element > left[len(left)-1]: \n",
    "            print(current_element)\n",
    "            left.append(current_element)\n",
    "        else: \n",
    "            for j in range(1,len(left)+1): \n",
    "                print(left)\n",
    "                if left[j-1] <= current_element and current_element <= left[j]: \n",
    "                    left.insert(j,current_element) \n",
    "                    break\n",
    "        array = left + right\n",
    "    return array"
   ]
  },
  {
   "cell_type": "code",
   "execution_count": 2,
   "metadata": {},
   "outputs": [
    {
     "name": "stdout",
     "output_type": "stream",
     "text": [
      "[1]\n",
      "3\n",
      "[1, 3]\n",
      "[1, 3]\n"
     ]
    },
    {
     "data": {
      "text/plain": [
       "[1, 2, 3]"
      ]
     },
     "execution_count": 2,
     "metadata": {},
     "output_type": "execute_result"
    }
   ],
   "source": [
    "insertionSort([1,3,2])"
   ]
  },
  {
   "cell_type": "code",
   "execution_count": 3,
   "metadata": {},
   "outputs": [
    {
     "name": "stdout",
     "output_type": "stream",
     "text": [
      "[8]\n",
      "[5, 8]\n",
      "[2, 5, 8]\n",
      "9\n",
      "[2, 5, 8, 9]\n",
      "[2, 5, 8, 9]\n",
      "[2, 5, 5, 8, 9]\n",
      "[2, 5, 5, 8, 9]\n",
      "[2, 5, 5, 8, 9]\n",
      "[2, 5, 5, 8, 9]\n",
      "[2, 5, 5, 6, 8, 9]\n",
      "[2, 5, 5, 6, 8, 9]\n",
      "[2, 3, 5, 5, 6, 8, 9]\n"
     ]
    }
   ],
   "source": [
    "arr = [8, 5, 2, 9, 5, 6, 3]\n",
    "arr = insertionSort(arr) \n",
    "print(arr)"
   ]
  },
  {
   "cell_type": "code",
   "execution_count": null,
   "metadata": {},
   "outputs": [],
   "source": []
  }
 ],
 "metadata": {
  "kernelspec": {
   "display_name": "Python 3",
   "language": "python",
   "name": "python3"
  },
  "language_info": {
   "codemirror_mode": {
    "name": "ipython",
    "version": 3
   },
   "file_extension": ".py",
   "mimetype": "text/x-python",
   "name": "python",
   "nbconvert_exporter": "python",
   "pygments_lexer": "ipython3",
   "version": "3.7.7"
  }
 },
 "nbformat": 4,
 "nbformat_minor": 4
}
