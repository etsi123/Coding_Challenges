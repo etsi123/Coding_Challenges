{
 "cells": [
  {
   "cell_type": "markdown",
   "metadata": {},
   "source": [
    "## Longest Substring Without Repeating Characters. Given a string s, find the length of the longest substring without repeating characters."
   ]
  },
  {
   "cell_type": "code",
   "execution_count": 1,
   "metadata": {},
   "outputs": [],
   "source": [
    "def longestSubstring(input_string):\n",
    "    my_dict = {} #dictionary to store index of previously seen chars. \n",
    "    num_chars = len(input_string) #number of characters in string. \n",
    "    minimum_substring = 0 #initialize minimum substring counter\n",
    "    \n",
    "    for i in range(0,num_chars): \n",
    "        currChar = input_string[i] #current character being evaluated. \n",
    "        if currChar in my_dict: #If currChar has already been seen. \n",
    "            indexOfPrev = my_dict[currChar] #return index of previously seen char. \n",
    "            if i - indexOfPrev > minimum_substring: #If this is greater than current min substring. \n",
    "                minimum_substring = i - indexOfPrev #replace min substring. \n",
    "            my_dict[currChar]= i #Regardless if greater or not, must reset that character. \n",
    "        else: \n",
    "            my_dict[currChar]= i #if has not been seen yet, add it to the dictionary. \n",
    "    return minimum_substring"
   ]
  },
  {
   "cell_type": "code",
   "execution_count": 2,
   "metadata": {},
   "outputs": [
    {
     "data": {
      "text/plain": [
       "3"
      ]
     },
     "execution_count": 2,
     "metadata": {},
     "output_type": "execute_result"
    }
   ],
   "source": [
    "longestSubstring(\"abcabcbb\")"
   ]
  },
  {
   "cell_type": "code",
   "execution_count": 3,
   "metadata": {},
   "outputs": [
    {
     "data": {
      "text/plain": [
       "1"
      ]
     },
     "execution_count": 3,
     "metadata": {},
     "output_type": "execute_result"
    }
   ],
   "source": [
    "longestSubstring('bbbbb')"
   ]
  },
  {
   "cell_type": "code",
   "execution_count": 4,
   "metadata": {},
   "outputs": [
    {
     "data": {
      "text/plain": [
       "3"
      ]
     },
     "execution_count": 4,
     "metadata": {},
     "output_type": "execute_result"
    }
   ],
   "source": [
    "longestSubstring(\"pwwkew\")"
   ]
  },
  {
   "cell_type": "code",
   "execution_count": 5,
   "metadata": {},
   "outputs": [
    {
     "data": {
      "text/plain": [
       "0"
      ]
     },
     "execution_count": 5,
     "metadata": {},
     "output_type": "execute_result"
    }
   ],
   "source": [
    "longestSubstring(\"\")"
   ]
  }
 ],
 "metadata": {
  "kernelspec": {
   "display_name": "Python 3",
   "language": "python",
   "name": "python3"
  },
  "language_info": {
   "codemirror_mode": {
    "name": "ipython",
    "version": 3
   },
   "file_extension": ".py",
   "mimetype": "text/x-python",
   "name": "python",
   "nbconvert_exporter": "python",
   "pygments_lexer": "ipython3",
   "version": "3.7.7"
  }
 },
 "nbformat": 4,
 "nbformat_minor": 4
}
