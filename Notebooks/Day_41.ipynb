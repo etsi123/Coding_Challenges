{
 "cells": [
  {
   "cell_type": "markdown",
   "metadata": {},
   "source": [
    "## Minimum Index Sum of Two Lists\n",
    "\n",
    "Suppose Andy and Doris want to choose a restaurant for dinner, and they both have a list of favorite restaurants represented by strings.\n",
    "\n",
    "You need to help them find out their common interest with the least list index sum. If there is a choice tie between answers, output all of them with no order requirement. You could assume there always exists an answer."
   ]
  },
  {
   "cell_type": "code",
   "execution_count": 1,
   "metadata": {},
   "outputs": [],
   "source": [
    "def findRestaurant(list1,list2):\n",
    "    numElements1,numElements2 = len(list1),len(list2)\n",
    "    my_dict,solution = {},[]\n",
    "    least_sum = numElements1 -1 + numElements2 - 1 #greatest possible least list index sum. \n",
    "    for i in range(0,numElements1): \n",
    "        my_dict[list1[i]] = i    #initialize list 1 dictionary\n",
    "    for i in range(0,numElements2): \n",
    "        if list2[i] in my_dict.keys(): #if it's present in list 1\n",
    "            potential = my_dict[list2[i]] + i \n",
    "            if potential < least_sum: # if current option is less than what's already there, override it. \n",
    "                least_sum = potential\n",
    "                solution = [list2[i]]\n",
    "            elif potential == least_sum: #if equal to what is already there, append it. \n",
    "                solution.append(list2[i])  \n",
    "    return solution"
   ]
  },
  {
   "cell_type": "code",
   "execution_count": 3,
   "metadata": {},
   "outputs": [
    {
     "name": "stdout",
     "output_type": "stream",
     "text": [
      "['KFC', 'Pats', 'Angelos', 'Broad Street Diner']\n"
     ]
    }
   ],
   "source": [
    "list1 = [\"Broad Street Diner\",\"Angelos\",\"Pats\",\"KFC\"] \n",
    "list2 = [\"KFC\",\"Pats\",\"Angelos\",\"Broad Street Diner\"]\n",
    "print(findRestaurant(list1,list2))"
   ]
  },
  {
   "cell_type": "code",
   "execution_count": 4,
   "metadata": {},
   "outputs": [
    {
     "name": "stdout",
     "output_type": "stream",
     "text": [
      "['Broad Street Diner']\n"
     ]
    }
   ],
   "source": [
    "list1 = [\"Broad Street Diner\"]\n",
    "list2 = [\"Broad Street Diner\"]\n",
    "print(findRestaurant(list1,list2))"
   ]
  },
  {
   "cell_type": "code",
   "execution_count": 5,
   "metadata": {},
   "outputs": [
    {
     "name": "stdout",
     "output_type": "stream",
     "text": [
      "['Shogun']\n"
     ]
    }
   ],
   "source": [
    "list1 = [\"Shogun\",\"Tapioca Express\",\"Burger King\",\"KFC\"]\n",
    "list2 = [\"Piatti\",\"The Grill at Torrey Pines\",\"Hungry Hunter Steakhouse\",\"Shogun\"]\n",
    "print(findRestaurant(list1,list2))"
   ]
  },
  {
   "cell_type": "code",
   "execution_count": null,
   "metadata": {},
   "outputs": [],
   "source": []
  }
 ],
 "metadata": {
  "kernelspec": {
   "display_name": "Python 3",
   "language": "python",
   "name": "python3"
  },
  "language_info": {
   "codemirror_mode": {
    "name": "ipython",
    "version": 3
   },
   "file_extension": ".py",
   "mimetype": "text/x-python",
   "name": "python",
   "nbconvert_exporter": "python",
   "pygments_lexer": "ipython3",
   "version": "3.7.7"
  }
 },
 "nbformat": 4,
 "nbformat_minor": 2
}
