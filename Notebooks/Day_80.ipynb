{
 "cells": [
  {
   "cell_type": "markdown",
   "metadata": {},
   "source": [
    "## Group Anagrams\n",
    "\n",
    "Given an array of strings strs, group the anagrams together. You can return the answer in any order.\n",
    "\n",
    "An Anagram is a word or phrase formed by rearranging the letters of a different word or phrase, typically using all the original letters exactly once."
   ]
  },
  {
   "cell_type": "code",
   "execution_count": 1,
   "metadata": {},
   "outputs": [],
   "source": [
    "import pandas as pd\n",
    "def groupAnagrams(strs): \n",
    "    counter = 0 #keep track of which are matching\n",
    "    my_dict = {} #dictionary to store the character frequencies. \n",
    "    match,solution = [],[]\n",
    "    for word in strs: #loop through each word. \n",
    "        freqs = pd.Series([char for char in word]).value_counts().reset_index(name='counts').values.tolist()\n",
    "        if freqs in my_dict.values(): #if the frequency chart is already present, then they are anograms. \n",
    "            keys = list(my_dict.keys()) \n",
    "            vals = list(my_dict.values())\n",
    "            match.append(keys[vals.index(freqs)]) #make sure they are grouped by the same number. \n",
    "        else: \n",
    "            match.append(counter) #if it has not ben seen, then add it to the dictionary and give it a new number. \n",
    "            my_dict[counter] = freqs\n",
    "            counter = counter + 1\n",
    "    df = pd.DataFrame(list(zip(strs, match)), columns =['strs', 'match']) #store results in dataframe. \n",
    "    for i in range(0,max(match)+1):\n",
    "        temp = df[df['match'] == i] #group by the matching numbers. \n",
    "        solution.append(temp.strs.tolist()) #store the results in a new list and append it to the solution.       \n",
    "    return solution"
   ]
  },
  {
   "cell_type": "code",
   "execution_count": 2,
   "metadata": {},
   "outputs": [
    {
     "data": {
      "text/plain": [
       "[['eat', 'tea'], ['tan', 'nat'], ['ate'], ['bat']]"
      ]
     },
     "execution_count": 2,
     "metadata": {},
     "output_type": "execute_result"
    }
   ],
   "source": [
    "groupAnagrams([\"eat\",\"tea\",\"tan\",\"ate\",\"nat\",\"bat\"])"
   ]
  },
  {
   "cell_type": "code",
   "execution_count": 3,
   "metadata": {},
   "outputs": [
    {
     "name": "stderr",
     "output_type": "stream",
     "text": [
      "/Users/evan/opt/anaconda3/lib/python3.7/site-packages/ipykernel_launcher.py:7: DeprecationWarning: The default dtype for empty Series will be 'object' instead of 'float64' in a future version. Specify a dtype explicitly to silence this warning.\n",
      "  import sys\n"
     ]
    },
    {
     "data": {
      "text/plain": [
       "[['']]"
      ]
     },
     "execution_count": 3,
     "metadata": {},
     "output_type": "execute_result"
    }
   ],
   "source": [
    "groupAnagrams([\"\"])"
   ]
  },
  {
   "cell_type": "code",
   "execution_count": 4,
   "metadata": {},
   "outputs": [
    {
     "data": {
      "text/plain": [
       "[['a']]"
      ]
     },
     "execution_count": 4,
     "metadata": {},
     "output_type": "execute_result"
    }
   ],
   "source": [
    "groupAnagrams([\"a\"])"
   ]
  }
 ],
 "metadata": {
  "kernelspec": {
   "display_name": "Python 3",
   "language": "python",
   "name": "python3"
  },
  "language_info": {
   "codemirror_mode": {
    "name": "ipython",
    "version": 3
   },
   "file_extension": ".py",
   "mimetype": "text/x-python",
   "name": "python",
   "nbconvert_exporter": "python",
   "pygments_lexer": "ipython3",
   "version": "3.7.7"
  }
 },
 "nbformat": 4,
 "nbformat_minor": 4
}
