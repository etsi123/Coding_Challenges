{
 "cells": [
  {
   "cell_type": "markdown",
   "metadata": {},
   "source": [
    "## You are climbing a stair case and it takes A steps to reach to the top.\n",
    "\n",
    "Each time you can either climb 1 or 2 steps. In how many distinct ways can you climb to the top?"
   ]
  },
  {
   "cell_type": "code",
   "execution_count": 1,
   "metadata": {},
   "outputs": [],
   "source": [
    "my_dict = {} #keep track of what had already been seenm\n",
    "calls = 0 #number of calls\n",
    "def numWaysTopStep(numSteps): \n",
    "    global my_dict \n",
    "    global calls \n",
    "    calls += 1\n",
    "    if numSteps >= 3: \n",
    "        if numSteps not in my_dict.keys(): \n",
    "            my_dict[numSteps] = numWaysTopStep(numSteps-1) + numWaysTopStep(numSteps-2)\n",
    "            #Number of ways to reach step of interest must be equal to ways we reach step below (achieve with \n",
    "            #1 step up) + number of ways to reach 2 steps below (achieve with 2 steps up)\n",
    "        return my_dict[numSteps]\n",
    "    elif numSteps == 2: \n",
    "        return 2 #we can reach second step in 2 ways\n",
    "    elif numSteps == 1: \n",
    "        return 1 #we can reach first step in 1 way. \n",
    "    else: \n",
    "        print('invalid entry')"
   ]
  },
  {
   "cell_type": "code",
   "execution_count": 2,
   "metadata": {},
   "outputs": [
    {
     "name": "stdout",
     "output_type": "stream",
     "text": [
      "Number of calls is 11\n",
      "Number of calls is 7\n"
     ]
    }
   ],
   "source": [
    "my_dict,calls = {},0\n",
    "numWaysTopStep(7)\n",
    "print('Number of calls is '+ str(calls))\n",
    "my_dict,calls = {},0\n",
    "numWaysTopStep(5)\n",
    "print('Number of calls is '+ str(calls))"
   ]
  }
 ],
 "metadata": {
  "kernelspec": {
   "display_name": "Python 3",
   "language": "python",
   "name": "python3"
  },
  "language_info": {
   "codemirror_mode": {
    "name": "ipython",
    "version": 3
   },
   "file_extension": ".py",
   "mimetype": "text/x-python",
   "name": "python",
   "nbconvert_exporter": "python",
   "pygments_lexer": "ipython3",
   "version": "3.7.7"
  }
 },
 "nbformat": 4,
 "nbformat_minor": 4
}
