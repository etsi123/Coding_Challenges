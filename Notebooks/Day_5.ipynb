{
 "cells": [
  {
   "cell_type": "markdown",
   "metadata": {},
   "source": [
    "## Valid Parenthesis problem: \n",
    "Given a string s containing just the characters '(', ')', '{', '}', '[' and ']', determine if the input string is valid.\n",
    "An input string is valid if:\n",
    "Open brackets must be closed by the same type of brackets.\n",
    "Open brackets must be closed in the correct order."
   ]
  },
  {
   "cell_type": "code",
   "execution_count": 1,
   "metadata": {},
   "outputs": [],
   "source": [
    "import numpy as np\n",
    "def is_valid(input_string): \n",
    "    num_chars = len(input_string)\n",
    "    if np.mod(num_chars,2) == 1: #Must be an even number of characters for this to even be possible!\n",
    "        return False\n",
    "    \n",
    "    my_dict = {'[':']','{':'}','(':')'} #Dictionary of corresponding ending bracket. \n",
    "    for i in range(0,num_chars,2): #loop over every odd numbered character, check the subsequent even one. \n",
    "        first = input_string[i] #Odd numbered character.\n",
    "        second = input_string[i+1] #even numbered character.\n",
    "        if (first == '[') or (first == '{') or (first == '('): #If the odd char equals appropriate opening brace. \n",
    "            if my_dict[first] != second:#if the even char does not equal the appropriate closing brace.\n",
    "                return False\n",
    "        else: \n",
    "            return False #if it is not an opening brace.\n",
    "\n",
    "    return True #return true by default. if it were false, would have exited program already. "
   ]
  },
  {
   "cell_type": "code",
   "execution_count": 2,
   "metadata": {},
   "outputs": [
    {
     "name": "stdout",
     "output_type": "stream",
     "text": [
      "False\n",
      "True\n"
     ]
    }
   ],
   "source": [
    "print(is_valid('{}{}[][))'))\n",
    "print(is_valid('{}{}[]()'))"
   ]
  },
  {
   "cell_type": "code",
   "execution_count": null,
   "metadata": {},
   "outputs": [],
   "source": []
  }
 ],
 "metadata": {
  "kernelspec": {
   "display_name": "Python 3",
   "language": "python",
   "name": "python3"
  },
  "language_info": {
   "codemirror_mode": {
    "name": "ipython",
    "version": 3
   },
   "file_extension": ".py",
   "mimetype": "text/x-python",
   "name": "python",
   "nbconvert_exporter": "python",
   "pygments_lexer": "ipython3",
   "version": "3.7.7"
  }
 },
 "nbformat": 4,
 "nbformat_minor": 4
}
