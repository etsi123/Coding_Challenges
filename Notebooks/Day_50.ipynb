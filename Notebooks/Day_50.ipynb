{
 "cells": [
  {
   "cell_type": "markdown",
   "metadata": {},
   "source": [
    "## Most common Word\n",
    "\n",
    "Given a paragraph and a list of banned words, return the most frequent word that is not in the list of banned words.  It is guaranteed there is at least one word that isn't banned, and that the answer is unique.\n",
    "\n",
    "Words in the list of banned words are given in lowercase, and free of punctuation.  Words in the paragraph are not case sensitive.  The answer is in lowercase."
   ]
  },
  {
   "cell_type": "code",
   "execution_count": 1,
   "metadata": {},
   "outputs": [],
   "source": [
    "import pandas as pd\n",
    "def remPunct(paragraph):  #helper function to remove punctuation from the paragraph. \n",
    "    punctuations = '''!()-[]{};:'\"\\,<>./?@#$%^&*_~''' #all possible punctuation\n",
    "    new_paragraph = \"\"\n",
    "    for char in paragraph:\n",
    "        if char not in punctuations:\n",
    "            new_paragraph = new_paragraph + char\n",
    "    return new_paragraph\n",
    "\n",
    "def mostCommonWord(paragraph,banned): \n",
    "    paragraph = paragraph.lower() # make everything lowercase. \n",
    "    paragraph = remPunct(paragraph) #remove punctuation so we can split by spaces. \n",
    "    wordsInPar = paragraph.split(' ')\n",
    "    sortedWords = pd.Series(wordsInPar).value_counts().keys().tolist() #use the pandas function, value_counts()\n",
    "                                                               #to sort by most frequent occurences. \n",
    "    for word in sortedWords: \n",
    "        if word not in banned:  #if not in banned, return the word. \n",
    "            return word  "
   ]
  },
  {
   "cell_type": "code",
   "execution_count": 2,
   "metadata": {},
   "outputs": [
    {
     "data": {
      "text/plain": [
       "'ball'"
      ]
     },
     "execution_count": 2,
     "metadata": {},
     "output_type": "execute_result"
    }
   ],
   "source": [
    "paragraph = \"Bob hit a ball, the hit BALL flew far after it was hit.\"\n",
    "banned = [\"hit\"]\n",
    "mostCommonWord(paragraph,banned)"
   ]
  },
  {
   "cell_type": "code",
   "execution_count": null,
   "metadata": {},
   "outputs": [],
   "source": []
  }
 ],
 "metadata": {
  "kernelspec": {
   "display_name": "Python 3",
   "language": "python",
   "name": "python3"
  },
  "language_info": {
   "codemirror_mode": {
    "name": "ipython",
    "version": 3
   },
   "file_extension": ".py",
   "mimetype": "text/x-python",
   "name": "python",
   "nbconvert_exporter": "python",
   "pygments_lexer": "ipython3",
   "version": "3.7.7"
  }
 },
 "nbformat": 4,
 "nbformat_minor": 4
}
