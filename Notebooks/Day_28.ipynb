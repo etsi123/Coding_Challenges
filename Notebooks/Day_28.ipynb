{
 "cells": [
  {
   "cell_type": "markdown",
   "metadata": {},
   "source": [
    "## Sort characters by frequency. Given a string, sort it in decreasing order based on the frequency of characters."
   ]
  },
  {
   "cell_type": "code",
   "execution_count": 1,
   "metadata": {},
   "outputs": [
    {
     "name": "stdout",
     "output_type": "stream",
     "text": [
      "eetr\n",
      "aaaccc\n",
      "bbaA\n"
     ]
    }
   ],
   "source": [
    "def frequencySort(input_string): \n",
    "    solution = [] #Solution to store answer\n",
    "    while len(input_string)>=1:\n",
    "        mode = max(set(input_string), key=input_string.count) #return most common character is string\n",
    "        for i in range(0,input_string.count(mode)):solution.append(mode) #add it the appropriate number of times. \n",
    "        input_string = input_string.replace(mode,'') #remove characters already evaluated from original string. \n",
    "    return ''.join(solution) #convert to string \n",
    "\n",
    "print(frequencySort('tree'))\n",
    "print(frequencySort('cccaaa'))\n",
    "print(frequencySort('Aabb'))"
   ]
  },
  {
   "cell_type": "code",
   "execution_count": 2,
   "metadata": {},
   "outputs": [
    {
     "name": "stdout",
     "output_type": "stream",
     "text": [
      "eetr\n",
      "cccaaa\n",
      "bbAa\n"
     ]
    }
   ],
   "source": [
    "def frequencySort(input_string): #can also be done in 1 line using the sorted function. key based on frequency. \n",
    "    solution = sorted(input_string, key = input_string.count, reverse = True) \n",
    "    return ''.join(solution)\n",
    "\n",
    "print(frequencySort('tree'))\n",
    "print(frequencySort('cccaaa'))\n",
    "print(frequencySort('Aabb'))"
   ]
  },
  {
   "cell_type": "code",
   "execution_count": null,
   "metadata": {},
   "outputs": [],
   "source": []
  }
 ],
 "metadata": {
  "kernelspec": {
   "display_name": "Python 3",
   "language": "python",
   "name": "python3"
  },
  "language_info": {
   "codemirror_mode": {
    "name": "ipython",
    "version": 3
   },
   "file_extension": ".py",
   "mimetype": "text/x-python",
   "name": "python",
   "nbconvert_exporter": "python",
   "pygments_lexer": "ipython3",
   "version": "3.7.7"
  }
 },
 "nbformat": 4,
 "nbformat_minor": 4
}
