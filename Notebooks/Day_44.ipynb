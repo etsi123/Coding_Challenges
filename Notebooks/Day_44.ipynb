{
 "cells": [
  {
   "cell_type": "markdown",
   "metadata": {},
   "source": [
    "## Longest Continuous Increasing Subsequence\n",
    "Given an unsorted array of integers nums, return the length of the longest continuous increasing subsequence (i.e. subarray). The subsequence must be strictly increasing.\n",
    "\n",
    "A continuous increasing subsequence is defined by two indices l and r (l < r) such that it is [nums[l], nums[l + 1], ..., nums[r - 1], nums[r]] and for each l <= i < r, nums[i] < nums[i + 1]."
   ]
  },
  {
   "cell_type": "code",
   "execution_count": 1,
   "metadata": {},
   "outputs": [],
   "source": [
    "def findLengthOfLCIS(nums): \n",
    "    longest = 0 #keep track of longest sublist\n",
    "    curr_longest = 0 #keep track of current sublist\n",
    "    for i in range(0,len(nums)-1): \n",
    "        if nums[i] < nums[i+1]: #if we are increasing.. \n",
    "            curr_longest += 1 #increment current longest sublist. \n",
    "            if curr_longest > longest: longest = curr_longest #keep the longest sublist. \n",
    "        else: \n",
    "            curr_longest = 0 #no longer increasing, let's start count over. \n",
    "    if longest > 0: \n",
    "        return longest+1 #add 1 because we are counting number of increases here, this excludes first number. \n",
    "    else: \n",
    "        return 0 #Either numbers were constant or decreasing (or non-existent)"
   ]
  },
  {
   "cell_type": "code",
   "execution_count": 3,
   "metadata": {},
   "outputs": [
    {
     "name": "stdout",
     "output_type": "stream",
     "text": [
      "3\n",
      "0\n",
      "7\n",
      "0\n",
      "0\n"
     ]
    }
   ],
   "source": [
    "print(findLengthOfLCIS([1,3,5,4,7]))\n",
    "print(findLengthOfLCIS([2,2,2,2,2]))\n",
    "print(findLengthOfLCIS([1,3,5,4,7,8,9,10,11,12]))\n",
    "print(findLengthOfLCIS([7,6,4]))\n",
    "print(findLengthOfLCIS([]))"
   ]
  },
  {
   "cell_type": "code",
   "execution_count": null,
   "metadata": {},
   "outputs": [],
   "source": []
  }
 ],
 "metadata": {
  "kernelspec": {
   "display_name": "Python 3",
   "language": "python",
   "name": "python3"
  },
  "language_info": {
   "codemirror_mode": {
    "name": "ipython",
    "version": 3
   },
   "file_extension": ".py",
   "mimetype": "text/x-python",
   "name": "python",
   "nbconvert_exporter": "python",
   "pygments_lexer": "ipython3",
   "version": "3.7.7"
  }
 },
 "nbformat": 4,
 "nbformat_minor": 4
}
