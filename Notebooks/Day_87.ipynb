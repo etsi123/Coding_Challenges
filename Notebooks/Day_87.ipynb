{
 "cells": [
  {
   "cell_type": "markdown",
   "metadata": {},
   "source": [
    "## Intersection of two arrays\n",
    "\n",
    "Given two arrays, write a function to compute their intersection."
   ]
  },
  {
   "cell_type": "code",
   "execution_count": 1,
   "metadata": {},
   "outputs": [],
   "source": [
    "import pandas as pd\n",
    "def intersection(nums1,nums2): \n",
    "    nums1 = pd.DataFrame(set(nums1),columns = ['l']) #unique numbers in the first group\n",
    "    nums2 = pd.DataFrame(set(nums2),columns = ['r']) #unique numbers in the second group\n",
    "    return nums1.merge(nums2,left_on = 'l',right_on='r',how='inner').l.tolist() #merge based on intersection, \n",
    "                                                                            #and convert to list"
   ]
  },
  {
   "cell_type": "code",
   "execution_count": 2,
   "metadata": {},
   "outputs": [
    {
     "data": {
      "text/plain": [
       "[2]"
      ]
     },
     "execution_count": 2,
     "metadata": {},
     "output_type": "execute_result"
    }
   ],
   "source": [
    "nums1 = [1,2,2,1] \n",
    "nums2 = [2,2]\n",
    "intersection(nums1,nums2)"
   ]
  },
  {
   "cell_type": "code",
   "execution_count": 3,
   "metadata": {},
   "outputs": [
    {
     "data": {
      "text/plain": [
       "[9, 4]"
      ]
     },
     "execution_count": 3,
     "metadata": {},
     "output_type": "execute_result"
    }
   ],
   "source": [
    "nums1 = [4,9,5] \n",
    "nums2 = [9,4,9,8,4]\n",
    "intersection(nums1,nums2)"
   ]
  },
  {
   "cell_type": "code",
   "execution_count": null,
   "metadata": {},
   "outputs": [],
   "source": []
  }
 ],
 "metadata": {
  "kernelspec": {
   "display_name": "Python 3",
   "language": "python",
   "name": "python3"
  },
  "language_info": {
   "codemirror_mode": {
    "name": "ipython",
    "version": 3
   },
   "file_extension": ".py",
   "mimetype": "text/x-python",
   "name": "python",
   "nbconvert_exporter": "python",
   "pygments_lexer": "ipython3",
   "version": "3.7.7"
  }
 },
 "nbformat": 4,
 "nbformat_minor": 4
}
