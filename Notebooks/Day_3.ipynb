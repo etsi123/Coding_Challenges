{
 "cells": [
  {
   "cell_type": "markdown",
   "metadata": {},
   "source": [
    "## Find the sum of the product of all pairs of elements in a list\n",
    "for example: [1,2,3] --> 1*2 + 1*3 + 3*2 = 11"
   ]
  },
  {
   "cell_type": "code",
   "execution_count": 1,
   "metadata": {},
   "outputs": [],
   "source": [
    "def sum_product(input_array): \n",
    "    #This can certaintly be done in O(n^2) time by looping through list twice and multiplying pairs together, \n",
    "    #but it can be done in O(n) time with a little mathematical manipulation. \n",
    "    #(a + b + c +...+n)^2 = a^2+b^2+c^2 + ... + n^2 + 2(ab + ac + ... an + bc + ... bn + ... cn)\n",
    "    #if x1 = (a + b + c +...+n)^2, x2 = a^2+b^2+c^2 + ... + n^2, x3 = (ab + ac + ... an + bc + ... bn + ... cn)\n",
    "    #then x3 = (x1 - x2)/2, which is exactly what we are looking for. \n",
    "    x1,x2 = 0,0 #initialize variables as 0. \n",
    "    counter = 0 #count number of loop iterations\n",
    "    for i in input_array: \n",
    "        counter = counter + 1 \n",
    "        x1 = x1 + i \n",
    "        x2 = x2 + i*i \n",
    "    x1 = x1*x1 #square after summing all terms together (see equation above)\n",
    "    x3 = (x1-x2)/2 #Solve for x3. \n",
    "    \n",
    "    print('Num iterations : ' + str(counter))\n",
    "    return x3"
   ]
  },
  {
   "cell_type": "code",
   "execution_count": 2,
   "metadata": {},
   "outputs": [
    {
     "name": "stdout",
     "output_type": "stream",
     "text": [
      "Num iterations : 3\n"
     ]
    },
    {
     "data": {
      "text/plain": [
       "11.0"
      ]
     },
     "execution_count": 2,
     "metadata": {},
     "output_type": "execute_result"
    }
   ],
   "source": [
    "sum_product([1,2,3])"
   ]
  },
  {
   "cell_type": "code",
   "execution_count": null,
   "metadata": {},
   "outputs": [],
   "source": []
  }
 ],
 "metadata": {
  "kernelspec": {
   "display_name": "Python 3",
   "language": "python",
   "name": "python3"
  },
  "language_info": {
   "codemirror_mode": {
    "name": "ipython",
    "version": 3
   },
   "file_extension": ".py",
   "mimetype": "text/x-python",
   "name": "python",
   "nbconvert_exporter": "python",
   "pygments_lexer": "ipython3",
   "version": "3.7.7"
  }
 },
 "nbformat": 4,
 "nbformat_minor": 4
}
