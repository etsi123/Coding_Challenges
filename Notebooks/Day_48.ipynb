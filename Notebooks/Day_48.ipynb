{
 "cells": [
  {
   "cell_type": "markdown",
   "metadata": {},
   "source": [
    "## Implement an iterative version of the fibonacci sequence. "
   ]
  },
  {
   "cell_type": "code",
   "execution_count": 1,
   "metadata": {},
   "outputs": [],
   "source": [
    "def iterativeFib(n): \n",
    "    num_iterations = 0 #keep track of the number of loop iterations. \n",
    "    if n == 1: return 1\n",
    "    if n == 2: return 2\n",
    "    fib_seq = [1,2]  #initialize the fibonacci sequence. \n",
    "    for i in range(0,n-2): \n",
    "        num_iterations += 1  \n",
    "        fib_seq.append(fib_seq[i] + fib_seq[i+1]) #since list is ordered, will place this sum in appropriate position. \n",
    "    print(str(num_iterations) + ' iterations')\n",
    "    print(fib_seq)\n",
    "    return fib_seq.pop()"
   ]
  },
  {
   "cell_type": "code",
   "execution_count": 2,
   "metadata": {},
   "outputs": [
    {
     "name": "stdout",
     "output_type": "stream",
     "text": [
      "8 iterations\n",
      "[1, 2, 3, 5, 8, 13, 21, 34, 55, 89]\n"
     ]
    },
    {
     "data": {
      "text/plain": [
       "89"
      ]
     },
     "execution_count": 2,
     "metadata": {},
     "output_type": "execute_result"
    }
   ],
   "source": [
    "iterativeFib(10)"
   ]
  },
  {
   "cell_type": "code",
   "execution_count": null,
   "metadata": {},
   "outputs": [],
   "source": []
  }
 ],
 "metadata": {
  "kernelspec": {
   "display_name": "Python 3",
   "language": "python",
   "name": "python3"
  },
  "language_info": {
   "codemirror_mode": {
    "name": "ipython",
    "version": 3
   },
   "file_extension": ".py",
   "mimetype": "text/x-python",
   "name": "python",
   "nbconvert_exporter": "python",
   "pygments_lexer": "ipython3",
   "version": "3.7.7"
  }
 },
 "nbformat": 4,
 "nbformat_minor": 4
}
