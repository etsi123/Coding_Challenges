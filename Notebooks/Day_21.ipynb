{
 "cells": [
  {
   "cell_type": "markdown",
   "metadata": {},
   "source": [
    "## dynamic programming fibonacci sequence. Use dynamic programming to write a more efficient fibonacci sequence code. "
   ]
  },
  {
   "cell_type": "code",
   "execution_count": 2,
   "metadata": {},
   "outputs": [
    {
     "name": "stdout",
     "output_type": "stream",
     "text": [
      "8\n",
      "Num calls is 9\n"
     ]
    }
   ],
   "source": [
    "num_calls = 0 \n",
    "my_dict = {}\n",
    "def fib_fast(n): \n",
    "    global num_calls\n",
    "    global my_dict \n",
    "    num_calls += 1 #count number of calls. \n",
    "    if n not in my_dict.keys(): #if we haven't already evaluated the fib sequence, let's do it now. \n",
    "        if n <= 1: \n",
    "            return 1\n",
    "        else: \n",
    "            my_dict[n] = fib_fast(n-1)+fib_fast(n-2)\n",
    "    return my_dict[n] #if in the dictionary, we already evaluated it and just need to look it up! \n",
    "print(fib_fast(5))\n",
    "print('Num calls is ' + str(num_calls))"
   ]
  },
  {
   "cell_type": "code",
   "execution_count": 3,
   "metadata": {},
   "outputs": [
    {
     "data": {
      "text/plain": [
       "{2: 2, 3: 3, 4: 5, 5: 8}"
      ]
     },
     "execution_count": 3,
     "metadata": {},
     "output_type": "execute_result"
    }
   ],
   "source": [
    "my_dict"
   ]
  },
  {
   "cell_type": "code",
   "execution_count": null,
   "metadata": {},
   "outputs": [],
   "source": [
    "my_dict.keys()"
   ]
  },
  {
   "cell_type": "code",
   "execution_count": 8,
   "metadata": {},
   "outputs": [
    {
     "name": "stdout",
     "output_type": "stream",
     "text": [
      "89\n",
      "Num calls is 177\n"
     ]
    }
   ],
   "source": [
    "num_iterations = 0 \n",
    "def fib_slow(n): #slow implementation, repeat calculations multiple times. \n",
    "    global num_iterations\n",
    "    num_iterations+=1\n",
    "    if n<=1:\n",
    "        return 1\n",
    "    else: \n",
    "        return fib_slow(n-1)+fib_slow(n-2)\n",
    "print(fib_slow(10))\n",
    "print('Num calls is ' + str(num_iterations))"
   ]
  },
  {
   "cell_type": "code",
   "execution_count": null,
   "metadata": {},
   "outputs": [],
   "source": []
  }
 ],
 "metadata": {
  "kernelspec": {
   "display_name": "Python 3",
   "language": "python",
   "name": "python3"
  },
  "language_info": {
   "codemirror_mode": {
    "name": "ipython",
    "version": 3
   },
   "file_extension": ".py",
   "mimetype": "text/x-python",
   "name": "python",
   "nbconvert_exporter": "python",
   "pygments_lexer": "ipython3",
   "version": "3.7.7"
  }
 },
 "nbformat": 4,
 "nbformat_minor": 4
}
