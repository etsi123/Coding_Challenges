{
 "cells": [
  {
   "cell_type": "markdown",
   "metadata": {},
   "source": [
    "## Multiply Strings\n",
    "Given two non-negative integers num1 and num2 represented as strings, return the product of num1 and num2. \n",
    "you may not convert the inputs to integers directly"
   ]
  },
  {
   "cell_type": "code",
   "execution_count": 1,
   "metadata": {},
   "outputs": [],
   "source": [
    "def constructNum(num): #convert string into integer. \n",
    "    counter = 0\n",
    "    solution = 0\n",
    "    my_dict = {\"1\": 1, \"2\": 2,'3':3,'4':4,'5':5,'6':6,'7':7,'8':8,'9':9,'0':0} #string corresponding to num,. \n",
    "    for i in range(0,len(num)): \n",
    "        exp = len(num) #Number of zero places. \n",
    "        temp = my_dict[num[i]]*(10**(exp-1-counter))\n",
    "        solution = solution + temp #add each number in with correct number of tens places. \n",
    "        counter = counter + 1\n",
    "    return solution"
   ]
  },
  {
   "cell_type": "code",
   "execution_count": 2,
   "metadata": {},
   "outputs": [],
   "source": [
    "def multiply(num1,num2): \n",
    "    num1 = constructNum(num1) #convert num1\n",
    "    num2 = constructNum(num2) #convert num2\n",
    "    return num1*num2 #return product"
   ]
  },
  {
   "cell_type": "code",
   "execution_count": 3,
   "metadata": {},
   "outputs": [
    {
     "data": {
      "text/plain": [
       "56088"
      ]
     },
     "execution_count": 3,
     "metadata": {},
     "output_type": "execute_result"
    }
   ],
   "source": [
    "multiply('123','456')"
   ]
  },
  {
   "cell_type": "code",
   "execution_count": 4,
   "metadata": {},
   "outputs": [
    {
     "data": {
      "text/plain": [
       "6"
      ]
     },
     "execution_count": 4,
     "metadata": {},
     "output_type": "execute_result"
    }
   ],
   "source": [
    "multiply('2','3')"
   ]
  },
  {
   "cell_type": "code",
   "execution_count": null,
   "metadata": {},
   "outputs": [],
   "source": []
  }
 ],
 "metadata": {
  "kernelspec": {
   "display_name": "Python 3",
   "language": "python",
   "name": "python3"
  },
  "language_info": {
   "codemirror_mode": {
    "name": "ipython",
    "version": 3
   },
   "file_extension": ".py",
   "mimetype": "text/x-python",
   "name": "python",
   "nbconvert_exporter": "python",
   "pygments_lexer": "ipython3",
   "version": "3.7.7"
  }
 },
 "nbformat": 4,
 "nbformat_minor": 4
}
