{
 "cells": [
  {
   "cell_type": "markdown",
   "metadata": {},
   "source": [
    "## Detect Capital\n",
    "\n",
    "Given a word, you need to judge whether the usage of capitals in it is right or not.\n",
    "We define the usage of capitals in a word to be right when one of the following cases holds:\n",
    "All letters in this word are capitals, like \"USA\". All letters in this word are not capitals, like \"leetcode\". Only the first letter in this word is capital, like \"Google\".Otherwise, we define that this word doesn't use capitals in a right way."
   ]
  },
  {
   "cell_type": "code",
   "execution_count": 1,
   "metadata": {},
   "outputs": [],
   "source": [
    "def detectCapitalUse(word): \n",
    "    lower = list('abcdefghijklmnopqrstuvwxyz') #list of lowercase letters. \n",
    "    upper = list('ABCDEFGHIKLIMNNOPQRSTUVWXYZ') #list of uppercase letters. \n",
    "    i = 0 #character counter\n",
    "    for char in word: \n",
    "        if i == 0: # first character. \n",
    "            if char in lower: #establish if first character is lowercase or uppercase. \n",
    "                upper_key = 0 #lowercase. \n",
    "            else: \n",
    "                upper_key = 1 #uppercase. \n",
    "        else: \n",
    "            if (upper_key == 1): #it is uppercase. \n",
    "                if i == 1: #take a look at second character now, establish lowercase for remainder of upper. \n",
    "                    if char in lower: \n",
    "                        second_upper_key = 0\n",
    "                    else: \n",
    "                        second_upper_key = 1\n",
    "                if i > 1: \n",
    "                    if second_upper_key == 1 and char in lower: #must remain uppercase. \n",
    "                        return  False\n",
    "                    if second_upper_key == 0 and char in upper: #must remain lowercase. \n",
    "                        return False                    \n",
    "            if (upper_key == 0) and (char in upper): #if lowercase first letter, must remain lowercase for string. \n",
    "                return False\n",
    "        i = i+1\n",
    "    return True"
   ]
  },
  {
   "cell_type": "code",
   "execution_count": 5,
   "metadata": {},
   "outputs": [
    {
     "data": {
      "text/plain": [
       "True"
      ]
     },
     "execution_count": 5,
     "metadata": {},
     "output_type": "execute_result"
    }
   ],
   "source": [
    "detectCapitalUse('Google')"
   ]
  },
  {
   "cell_type": "code",
   "execution_count": 6,
   "metadata": {},
   "outputs": [
    {
     "data": {
      "text/plain": [
       "False"
      ]
     },
     "execution_count": 6,
     "metadata": {},
     "output_type": "execute_result"
    }
   ],
   "source": [
    "detectCapitalUse('flaG')"
   ]
  },
  {
   "cell_type": "code",
   "execution_count": 4,
   "metadata": {},
   "outputs": [
    {
     "data": {
      "text/plain": [
       "True"
      ]
     },
     "execution_count": 4,
     "metadata": {},
     "output_type": "execute_result"
    }
   ],
   "source": [
    "detectCapitalUse('USA')"
   ]
  }
 ],
 "metadata": {
  "kernelspec": {
   "display_name": "Python 3",
   "language": "python",
   "name": "python3"
  },
  "language_info": {
   "codemirror_mode": {
    "name": "ipython",
    "version": 3
   },
   "file_extension": ".py",
   "mimetype": "text/x-python",
   "name": "python",
   "nbconvert_exporter": "python",
   "pygments_lexer": "ipython3",
   "version": "3.7.7"
  }
 },
 "nbformat": 4,
 "nbformat_minor": 4
}
