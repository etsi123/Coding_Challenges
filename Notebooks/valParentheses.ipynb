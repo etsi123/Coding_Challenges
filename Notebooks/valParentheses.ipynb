{
 "cells": [
  {
   "cell_type": "code",
   "execution_count": 25,
   "metadata": {},
   "outputs": [],
   "source": [
    "import numpy as np\n",
    "def valParaentheses(input_string): \n",
    "    numChars = len(input_string)\n",
    "    if np.mod(numChars,2) != 0: return False\n",
    "    my_dict = {'{':'}','[':']','(':')'}\n",
    "    open_brackets = list(my_dict.keys())\n",
    "    close_brackets = list(my_dict.values())\n",
    "    close_que = []\n",
    "    for i in range(0,numChars): \n",
    "        currChar = input_string[i]\n",
    "#         if currChar not in open_brackets or currChar not in close_brackets: \n",
    "#             return False\n",
    "        if currChar in open_brackets: \n",
    "            close_que.append(my_dict[currChar])\n",
    "        else: \n",
    "            if currChar in close_brackets: \n",
    "                check = close_que[0] == currChar\n",
    "                if check == False: \n",
    "                    return False\n",
    "                else: \n",
    "                    close_que.pop(0)\n",
    "                \n",
    "    return True     "
   ]
  },
  {
   "cell_type": "code",
   "execution_count": 26,
   "metadata": {},
   "outputs": [
    {
     "data": {
      "text/plain": [
       "True"
      ]
     },
     "execution_count": 26,
     "metadata": {},
     "output_type": "execute_result"
    }
   ],
   "source": [
    "valParaentheses(\"()\")"
   ]
  },
  {
   "cell_type": "code",
   "execution_count": 27,
   "metadata": {},
   "outputs": [
    {
     "data": {
      "text/plain": [
       "True"
      ]
     },
     "execution_count": 27,
     "metadata": {},
     "output_type": "execute_result"
    }
   ],
   "source": [
    "valParaentheses(\"()[]{}\")"
   ]
  },
  {
   "cell_type": "code",
   "execution_count": 28,
   "metadata": {},
   "outputs": [
    {
     "data": {
      "text/plain": [
       "True"
      ]
     },
     "execution_count": 28,
     "metadata": {},
     "output_type": "execute_result"
    }
   ],
   "source": [
    "valParaentheses(\"([)]\")"
   ]
  },
  {
   "cell_type": "code",
   "execution_count": 29,
   "metadata": {},
   "outputs": [
    {
     "data": {
      "text/plain": [
       "False"
      ]
     },
     "execution_count": 29,
     "metadata": {},
     "output_type": "execute_result"
    }
   ],
   "source": [
    "valParaentheses(\"{[]}\")"
   ]
  },
  {
   "cell_type": "code",
   "execution_count": null,
   "metadata": {},
   "outputs": [],
   "source": []
  }
 ],
 "metadata": {
  "kernelspec": {
   "display_name": "Python 3",
   "language": "python",
   "name": "python3"
  },
  "language_info": {
   "codemirror_mode": {
    "name": "ipython",
    "version": 3
   },
   "file_extension": ".py",
   "mimetype": "text/x-python",
   "name": "python",
   "nbconvert_exporter": "python",
   "pygments_lexer": "ipython3",
   "version": "3.7.7"
  }
 },
 "nbformat": 4,
 "nbformat_minor": 4
}
