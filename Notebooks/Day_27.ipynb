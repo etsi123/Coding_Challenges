{
 "cells": [
  {
   "cell_type": "markdown",
   "metadata": {},
   "source": [
    "## Given two strings word1 and word2, return the minimum number of operations required to convert word1 to word2.\n",
    "\n",
    "You have the following three operations permitted on a word: Insert a character,Delete a character,Replace a character"
   ]
  },
  {
   "cell_type": "code",
   "execution_count": 1,
   "metadata": {},
   "outputs": [
    {
     "name": "stdout",
     "output_type": "stream",
     "text": [
      "[[0. 1. 2. 3. 4.]\n",
      " [1. 0. 1. 2. 3.]\n",
      " [2. 1. 0. 1. 2.]\n",
      " [3. 2. 1. 0. 1.]\n",
      " [4. 3. 2. 1. 0.]]\n"
     ]
    },
    {
     "data": {
      "text/plain": [
       "0.0"
      ]
     },
     "execution_count": 1,
     "metadata": {},
     "output_type": "execute_result"
    }
   ],
   "source": [
    "import numpy as np\n",
    "def minDistance(string1,string2): \n",
    "    numChars1 = len(string1)\n",
    "    numChars2 = len(string2)\n",
    "    dataMatrix = np.zeros((numChars1,numChars2)) #matrix to store previously evaluated substrings. \n",
    "    dataMatrix [:, 0] = np.linspace(0, numChars1-1, num=numChars1)#initialize data matrix\n",
    "    dataMatrix [0, :] = np.linspace(0, numChars2-1, num=numChars2)\n",
    "        \n",
    "    for i in range(1, numChars1):\n",
    "        for j in range(1, numChars2):\n",
    "            if string1[i-1] == string2[j-1]: #basic algorithm to populate data matrix. \n",
    "                dataMatrix [i,j] = min(dataMatrix[i-1, j] + 1,dataMatrix[i-1, j-1],dataMatrix[i, j-1] + 1)\n",
    "            else:\n",
    "                dataMatrix [i,j] = min(dataMatrix[i-1,j] + 1,dataMatrix[i-1,j-1] + 1,dataMatrix[i,j-1] + 1)\n",
    "                \n",
    "    print (dataMatrix)\n",
    "    return (dataMatrix[numChars1 - 1, numChars2 - 1]) # location where the solution is present.  \n",
    "minDistance('hello','hello')"
   ]
  },
  {
   "cell_type": "code",
   "execution_count": 2,
   "metadata": {},
   "outputs": [
    {
     "name": "stdout",
     "output_type": "stream",
     "text": [
      "[[0. 1. 2. 3. 4.]\n",
      " [1. 1. 2. 3. 4.]\n",
      " [2. 2. 1. 2. 3.]\n",
      " [3. 3. 2. 1. 2.]\n",
      " [4. 4. 3. 2. 1.]]\n"
     ]
    },
    {
     "data": {
      "text/plain": [
       "1.0"
      ]
     },
     "execution_count": 2,
     "metadata": {},
     "output_type": "execute_result"
    }
   ],
   "source": [
    "minDistance('hello','jello')"
   ]
  },
  {
   "cell_type": "code",
   "execution_count": 3,
   "metadata": {},
   "outputs": [
    {
     "name": "stdout",
     "output_type": "stream",
     "text": [
      "[[ 0.  1.  2.  3.  4.  5.  6.  7.  8.  9. 10. 11. 12. 13.]\n",
      " [ 1.  1.  2.  3.  4.  5.  6.  7.  8.  9. 10. 11. 12. 13.]\n",
      " [ 2.  2.  2.  3.  4.  5.  5.  6.  7.  8.  9. 10. 11. 12.]\n",
      " [ 3.  3.  3.  3.  4.  5.  6.  6.  7.  8.  9. 10. 11. 12.]\n",
      " [ 4.  4.  4.  4.  4.  5.  6.  7.  7.  8.  9.  9. 10. 11.]\n",
      " [ 5.  5.  5.  5.  5.  5.  6.  7.  8.  8.  8.  9. 10. 11.]\n",
      " [ 6.  6.  6.  6.  6.  6.  6.  7.  8.  9.  9.  9. 10. 11.]\n",
      " [ 7.  7.  7.  7.  7.  7.  7.  7.  7.  8.  9. 10. 10. 11.]\n",
      " [ 8.  8.  8.  8.  8.  8.  8.  8.  8.  7.  8.  9. 10. 11.]\n",
      " [ 9.  9.  9.  9.  9.  8.  9.  9.  9.  8.  8.  9. 10. 10.]\n",
      " [10. 10. 10. 10. 10.  9.  9. 10. 10.  9.  9.  9. 10. 11.]\n",
      " [11. 11. 11. 11. 11. 10.  9. 10. 11. 10. 10. 10. 10. 11.]]\n"
     ]
    },
    {
     "data": {
      "text/plain": [
       "11.0"
      ]
     },
     "execution_count": 3,
     "metadata": {},
     "output_type": "execute_result"
    }
   ],
   "source": [
    "minDistance('LeBron James','Michael Jordan')"
   ]
  }
 ],
 "metadata": {
  "kernelspec": {
   "display_name": "Python 3",
   "language": "python",
   "name": "python3"
  },
  "language_info": {
   "codemirror_mode": {
    "name": "ipython",
    "version": 3
   },
   "file_extension": ".py",
   "mimetype": "text/x-python",
   "name": "python",
   "nbconvert_exporter": "python",
   "pygments_lexer": "ipython3",
   "version": "3.7.7"
  }
 },
 "nbformat": 4,
 "nbformat_minor": 4
}
