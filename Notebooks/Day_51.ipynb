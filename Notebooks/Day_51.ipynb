{
 "cells": [
  {
   "cell_type": "markdown",
   "metadata": {},
   "source": [
    "## Positions of Large Groups\n",
    "\n",
    "In a string s of lowercase letters, these letters form consecutive groups of the same character.\n",
    "\n",
    "For example, a string like s = \"abbxxxxzyy\" has the groups \"a\", \"bb\", \"xxxx\", \"z\", and \"yy\".\n",
    "\n",
    "A group is identified by an interval [start, end], where start and end denote the start and end indices (inclusive) of the group. In the above example, \"xxxx\" has the interval [3,6].\n",
    "\n",
    "A group is considered large if it has 3 or more characters.\n",
    "\n",
    "Return the intervals of every large group sorted in increasing order by start index."
   ]
  },
  {
   "cell_type": "code",
   "execution_count": 1,
   "metadata": {},
   "outputs": [],
   "source": [
    "def largeGroupPositions(s): \n",
    "    solution = [] #solution to store answers. \n",
    "    counter = 0  #count number of consecutive characters\n",
    "    index1 = 0 #initial index\n",
    "    for i in range(0,len(s)-1): \n",
    "        if s[i] == s[i+1]: #if equal to next character. \n",
    "            if counter > 0: #if already started the group, increment by 1. \n",
    "                counter = counter + 1\n",
    "            else: \n",
    "                counter = 2 #increment by 2. \n",
    "                index1 = i #store the beginning index. \n",
    "        else: #consecutive chars are not equal. \n",
    "            if counter > 2: #if the streak was greater than 2,\n",
    "                solution.append([index1,i]) #append solution\n",
    "            counter = 0 #reset count. \n",
    "    return solution \n",
    "largeGroupPositions(\"abbxxxxzzy\")"
   ]
  },
  {
   "cell_type": "code",
   "execution_count": 2,
   "metadata": {},
   "outputs": [],
   "source": [
    "largeGroupPositions(\"abc\")"
   ]
  },
  {
   "cell_type": "code",
   "execution_count": 3,
   "metadata": {},
   "outputs": [
    {
     "data": {
      "text/plain": [
       "[[3, 5], [6, 9], [12, 14]]"
      ]
     },
     "execution_count": 3,
     "metadata": {},
     "output_type": "execute_result"
    }
   ],
   "source": [
    "largeGroupPositions('abcdddeeeeaabbbcd')"
   ]
  },
  {
   "cell_type": "code",
   "execution_count": 4,
   "metadata": {},
   "outputs": [
    {
     "data": {
      "text/plain": [
       "[]"
      ]
     },
     "execution_count": 4,
     "metadata": {},
     "output_type": "execute_result"
    }
   ],
   "source": [
    "largeGroupPositions('aba')"
   ]
  }
 ],
 "metadata": {
  "kernelspec": {
   "display_name": "Python 3",
   "language": "python",
   "name": "python3"
  },
  "language_info": {
   "codemirror_mode": {
    "name": "ipython",
    "version": 3
   },
   "file_extension": ".py",
   "mimetype": "text/x-python",
   "name": "python",
   "nbconvert_exporter": "python",
   "pygments_lexer": "ipython3",
   "version": "3.7.7"
  }
 },
 "nbformat": 4,
 "nbformat_minor": 4
}
