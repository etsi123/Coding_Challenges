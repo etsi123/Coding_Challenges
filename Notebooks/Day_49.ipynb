{
 "cells": [
  {
   "cell_type": "markdown",
   "metadata": {},
   "source": [
    "## Given two strings S and T, return if they are equal when both are typed into empty text editors. # means a backspace character.\n",
    "\n",
    "Note that after backspacing an empty text, the text will continue empty."
   ]
  },
  {
   "cell_type": "code",
   "execution_count": 1,
   "metadata": {},
   "outputs": [
    {
     "name": "stdout",
     "output_type": "stream",
     "text": [
      "True\n",
      "True\n",
      "True\n",
      "False\n",
      "True\n"
     ]
    }
   ],
   "source": [
    "def backspaceCompare(s,t): \n",
    "    num_s,num_t = len(s),len(t) #num characters in s and t. \n",
    "    c1,c2 = 0,0\n",
    "    i=0#increment counter\n",
    "    while i<num_s-c1: \n",
    "        if s[i] == '#':\n",
    "            if i == 0: #special case where delete is at beginning. just remove it. \n",
    "                s = s[i+1:]\n",
    "                num_s = num_s - 1\n",
    "            else:\n",
    "                s = s[:i-1] + s[i+1:] #remove the delete symbol and the deleted character. \n",
    "                c1 = c1+2 #adjust for the fact that we removed 2 characters. \n",
    "                i = i-1 #deleted two characters, we have to move the index back one. \n",
    "        else: \n",
    "            i = i+1 #we only increment if it isn't a delete sign. \n",
    "\n",
    "    i=0        \n",
    "    while i<num_t-c2: \n",
    "        if t[i] == '#':\n",
    "            if i == 0: #special case where delete is at beginning. just remove it. \n",
    "                t = t[i+1:]\n",
    "                num_t = num_t - 1 \n",
    "            else:               \n",
    "                t = t[:i-1] + t[i+1:]\n",
    "                c2 = c2+2\n",
    "                i=i-1 #deleted two characters, we have to move the index back one.\n",
    "        else: \n",
    "            i = i+1 #we only increment if it isn't a delete sign. \n",
    "    if s == t: return True #compare the new strings. are they equal? \n",
    "    else: return False\n",
    "print(backspaceCompare(\"ab#c\",\"ad#c\"))\n",
    "print(backspaceCompare(\"ab##\",\"c#d#\"))\n",
    "print(backspaceCompare(\"a##c\",\"a#c\"))\n",
    "print(backspaceCompare(\"a#c\",\"b\"))\n",
    "print(backspaceCompare(\"##\",\"#\"))"
   ]
  }
 ],
 "metadata": {
  "kernelspec": {
   "display_name": "Python 3",
   "language": "python",
   "name": "python3"
  },
  "language_info": {
   "codemirror_mode": {
    "name": "ipython",
    "version": 3
   },
   "file_extension": ".py",
   "mimetype": "text/x-python",
   "name": "python",
   "nbconvert_exporter": "python",
   "pygments_lexer": "ipython3",
   "version": "3.7.7"
  }
 },
 "nbformat": 4,
 "nbformat_minor": 4
}
