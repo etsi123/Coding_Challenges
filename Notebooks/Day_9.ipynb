{
 "cells": [
  {
   "cell_type": "markdown",
   "metadata": {},
   "source": [
    "## Given an array of numbers and a value val, remove all instances of val in the input array. You cannot allocate memory for a new array"
   ]
  },
  {
   "cell_type": "code",
   "execution_count": 1,
   "metadata": {},
   "outputs": [],
   "source": [
    "def removeElement(input_array,val): \n",
    "    num_elements = len(input_array)\n",
    "    counter = 0 \n",
    "    for i in range(0,num_elements): #Loop through all elements\n",
    "        j = i - counter #keep track of changing index. \n",
    "        if input_array[j] == val: #if element == val\n",
    "            del input_array[j] #delete that element. \n",
    "            counter = counter + 1 #update new index. \n",
    "    return input_array #return augmented arrayy"
   ]
  },
  {
   "cell_type": "code",
   "execution_count": 2,
   "metadata": {},
   "outputs": [
    {
     "data": {
      "text/plain": [
       "[1, 2, 3, 5, 6, 5]"
      ]
     },
     "execution_count": 2,
     "metadata": {},
     "output_type": "execute_result"
    }
   ],
   "source": [
    "removeElement([1,2,3,4,5,6,4,4,5], 4)"
   ]
  }
 ],
 "metadata": {
  "kernelspec": {
   "display_name": "Python 3",
   "language": "python",
   "name": "python3"
  },
  "language_info": {
   "codemirror_mode": {
    "name": "ipython",
    "version": 3
   },
   "file_extension": ".py",
   "mimetype": "text/x-python",
   "name": "python",
   "nbconvert_exporter": "python",
   "pygments_lexer": "ipython3",
   "version": "3.7.7"
  }
 },
 "nbformat": 4,
 "nbformat_minor": 4
}
