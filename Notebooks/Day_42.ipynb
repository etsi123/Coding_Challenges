{
 "cells": [
  {
   "cell_type": "markdown",
   "metadata": {},
   "source": [
    "## You are given a data structure of employee information, which includes the employee's unique id, their importance value and their direct subordinates' id.\n",
    "\n",
    "For example, employee 1 is the leader of employee 2, and employee 2 is the leader of employee 3. They have importance value 15, 10 and 5, respectively. Then employee 1 has a data structure like [1, 15, [2]], and employee 2 has [2, 10, [3]], and employee 3 has [3, 5, []]. Note that although employee 3 is also a subordinate of employee 1, the relationship is not direct.\n",
    "\n",
    "Now given the employee information of a company, and an employee id, you need to return the total importance value of this employee and all their subordinates."
   ]
  },
  {
   "cell_type": "code",
   "execution_count": 1,
   "metadata": {},
   "outputs": [
    {
     "name": "stdout",
     "output_type": "stream",
     "text": [
      "11\n",
      "30\n"
     ]
    }
   ],
   "source": [
    "def getImportance(employeeList,employeeID): \n",
    "    my_dict = {}#dictionary to store relevant info. not strictly necessary but convenient. \n",
    "    solution = 0 #store answer\n",
    "    for entry in employeeList: \n",
    "        boss = entry[0] #populate dictionary with info. \n",
    "        my_dict[boss] = [entry[1],entry[2]]\n",
    "    \n",
    "    solution += my_dict[employeeID][0] #base case\n",
    "    que = my_dict[employeeID][1] #next employees to evaluate\n",
    "    \n",
    "    while que != []: #as long as the que is not empty\n",
    "        curr = que.pop() #evaluate employee in que. \n",
    "        solution = solution + my_dict[curr][0] #add his/her importance value to the sum. \n",
    "        que = que + my_dict[curr][1] #add subordinates to que. \n",
    "    return solution\n",
    "        \n",
    "print(getImportance([[1, 5, [2, 3]], [2, 3, []], [3, 3, []]],1))\n",
    "print(getImportance([[1, 15, [2]],[2, 10, [3]],[3, 5, []]],1))"
   ]
  },
  {
   "cell_type": "code",
   "execution_count": null,
   "metadata": {},
   "outputs": [],
   "source": []
  }
 ],
 "metadata": {
  "kernelspec": {
   "display_name": "Python 3",
   "language": "python",
   "name": "python3"
  },
  "language_info": {
   "codemirror_mode": {
    "name": "ipython",
    "version": 3
   },
   "file_extension": ".py",
   "mimetype": "text/x-python",
   "name": "python",
   "nbconvert_exporter": "python",
   "pygments_lexer": "ipython3",
   "version": "3.7.7"
  }
 },
 "nbformat": 4,
 "nbformat_minor": 4
}
