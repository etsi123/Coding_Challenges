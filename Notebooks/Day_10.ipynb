{
 "cells": [
  {
   "cell_type": "markdown",
   "metadata": {},
   "source": [
    "## Given a sorted array of distinct integers and a target value, return the index if the target is found. If not, return the index where it would be if it were inserted in order."
   ]
  },
  {
   "cell_type": "code",
   "execution_count": 1,
   "metadata": {},
   "outputs": [],
   "source": [
    "def searchInsertPosition(input_array,val): \n",
    "    for i in range(0,len(input_array)): #Loop through elements of array\n",
    "        if input_array[i] == val: #if equal to value, retuurn string. \n",
    "            print('Present at index : ' + str(i))\n",
    "            return i\n",
    "        elif i < len(input_array)-1:  # not present: can be between values, before values, or after values in array. \n",
    "            if input_array[i] < val and input_array[i+1]>val: #between values case. \n",
    "                print('Should be present at ' + str(i+1))\n",
    "                return i+1\n",
    "            if i == 0 and input_array[i] > val: #before number case. \n",
    "                print('Should be present at ' + str(i))\n",
    "                return i  \n",
    "        else: #at the end of the case \n",
    "            print('Should be present at ' + str(len(input_array)))"
   ]
  },
  {
   "cell_type": "code",
   "execution_count": 2,
   "metadata": {},
   "outputs": [
    {
     "name": "stdout",
     "output_type": "stream",
     "text": [
      "Should be present at 4\n"
     ]
    },
    {
     "data": {
      "text/plain": [
       "4"
      ]
     },
     "execution_count": 2,
     "metadata": {},
     "output_type": "execute_result"
    }
   ],
   "source": [
    "searchInsertPosition([1,2,3,4,6],4.5)"
   ]
  },
  {
   "cell_type": "code",
   "execution_count": 3,
   "metadata": {},
   "outputs": [
    {
     "name": "stdout",
     "output_type": "stream",
     "text": [
      "Should be present at 5\n"
     ]
    }
   ],
   "source": [
    "searchInsertPosition([1,2,3,4,6],8)"
   ]
  },
  {
   "cell_type": "code",
   "execution_count": 4,
   "metadata": {},
   "outputs": [
    {
     "name": "stdout",
     "output_type": "stream",
     "text": [
      "Should be present at 0\n"
     ]
    },
    {
     "data": {
      "text/plain": [
       "0"
      ]
     },
     "execution_count": 4,
     "metadata": {},
     "output_type": "execute_result"
    }
   ],
   "source": [
    "searchInsertPosition([1,2,3,4,6],-1)"
   ]
  },
  {
   "cell_type": "code",
   "execution_count": null,
   "metadata": {},
   "outputs": [],
   "source": []
  }
 ],
 "metadata": {
  "kernelspec": {
   "display_name": "Python 3",
   "language": "python",
   "name": "python3"
  },
  "language_info": {
   "codemirror_mode": {
    "name": "ipython",
    "version": 3
   },
   "file_extension": ".py",
   "mimetype": "text/x-python",
   "name": "python",
   "nbconvert_exporter": "python",
   "pygments_lexer": "ipython3",
   "version": "3.7.7"
  }
 },
 "nbformat": 4,
 "nbformat_minor": 4
}
