{
 "cells": [
  {
   "cell_type": "markdown",
   "metadata": {},
   "source": [
    "## Hand of Straights\n",
    "\n",
    "Alice has a hand of cards, given as an array of integers.\n",
    "\n",
    "Now she wants to rearrange the cards into groups so that each group is size W, and consists of W consecutive cards.\n",
    "\n",
    "Return true if and only if she can."
   ]
  },
  {
   "cell_type": "code",
   "execution_count": 1,
   "metadata": {},
   "outputs": [],
   "source": [
    "import numpy as np\n",
    "def isNStraightHands(hand,numGroups): \n",
    "    numCards = len(hand)\n",
    "    if np.mod(numCards,numGroups) != 0: #must be able to divide it evenly. \n",
    "        return False\n",
    "    numCardsPerGroup = int(numCards/numGroups) #number of cards per group, expressed as an integer\n",
    "    for i in range(numGroups):\n",
    "        for j in range(numCardsPerGroup):\n",
    "            if j == 0: #take the first card as the minimum available and place in a group\n",
    "                temp = min(hand) \n",
    "                hand.remove(min(hand))  #remove it from the rest of the hand. \n",
    "            else: \n",
    "                next_card = temp + 1 #if not the first card, check to make sure we have the next card to make straight.\n",
    "                if next_card in hand: #if we do, add it to group and remove it from the hand. \n",
    "                    temp = next_card\n",
    "                    hand.remove(next_card)\n",
    "                else: \n",
    "                    return False #if not, return false. \n",
    "            print(temp)\n",
    "        print(' ')\n",
    "    return True #if we reached this point, we are good. we have grouped all of the cards. "
   ]
  },
  {
   "cell_type": "code",
   "execution_count": 2,
   "metadata": {},
   "outputs": [
    {
     "name": "stdout",
     "output_type": "stream",
     "text": [
      "1\n",
      "2\n",
      "3\n",
      " \n",
      "2\n",
      "3\n",
      "4\n",
      " \n",
      "6\n",
      "7\n",
      "8\n",
      " \n"
     ]
    },
    {
     "data": {
      "text/plain": [
       "True"
      ]
     },
     "execution_count": 2,
     "metadata": {},
     "output_type": "execute_result"
    }
   ],
   "source": [
    "isNStraightHands([1,2,3,6,2,3,4,7,8],3)"
   ]
  },
  {
   "cell_type": "code",
   "execution_count": null,
   "metadata": {},
   "outputs": [],
   "source": []
  }
 ],
 "metadata": {
  "kernelspec": {
   "display_name": "Python 3",
   "language": "python",
   "name": "python3"
  },
  "language_info": {
   "codemirror_mode": {
    "name": "ipython",
    "version": 3
   },
   "file_extension": ".py",
   "mimetype": "text/x-python",
   "name": "python",
   "nbconvert_exporter": "python",
   "pygments_lexer": "ipython3",
   "version": "3.7.7"
  }
 },
 "nbformat": 4,
 "nbformat_minor": 4
}
