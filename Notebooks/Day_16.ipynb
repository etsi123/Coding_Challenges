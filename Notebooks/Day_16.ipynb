{
 "cells": [
  {
   "cell_type": "markdown",
   "metadata": {},
   "source": [
    "## Reverse Vowel problem: Write a function that takes a string as input and reverse only the vowels of a string.\n",
    "For example: hello -> holle\n",
    "leetcode -> leotcede"
   ]
  },
  {
   "cell_type": "code",
   "execution_count": 1,
   "metadata": {},
   "outputs": [],
   "source": [
    "def replaceLetter(input_string,index,new_char): #helper function to change chars since strings are immutable. \n",
    "    list1 = list(input_string) #convert string to list \n",
    "    list1[index] = new_char #change index string to desired new character\n",
    "    input_string = ''.join(list1) #convert back to string. \n",
    "    return input_string #return edited string\n",
    "\n",
    "def reverseVowels(input_string):\n",
    "    input_string = input_string.upper() #convert to all capitals for simplicity. not strictly necessary. \n",
    "    vowels = \"AEIOU\"\n",
    "    num_elements = len(input_string)\n",
    "    my_dict = {}\n",
    "    \n",
    "    for i in range(0,num_elements): #loop over all characters\n",
    "        currChar = input_string[i] #current character\n",
    "        if currChar in vowels: #if character is present in vowels... \n",
    "            if my_dict == {}: #if dictionary is empty. \n",
    "                my_dict[i] = currChar\n",
    "            else: \n",
    "                first_index = list(my_dict.keys())[0] #first and only index in dict. \n",
    "                input_string = replaceLetter(input_string,first_index,currChar) #replace letters\n",
    "                input_string = replaceLetter(input_string,i,my_dict[first_index])\n",
    "                my_dict = {} #should only be one index in dict. probably not necessary but rushing and simple. \n",
    "                my_dict[i] = input_string[i] #input new character to swap. \n",
    "    return input_string          "
   ]
  },
  {
   "cell_type": "code",
   "execution_count": 2,
   "metadata": {},
   "outputs": [
    {
     "name": "stdout",
     "output_type": "stream",
     "text": [
      "LEOTCEDE\n",
      "HOLLE\n",
      "HELL\n"
     ]
    }
   ],
   "source": [
    "print(reverseVowels(\"leetcode\"))\n",
    "print(reverseVowels(\"hello\"))\n",
    "print(reverseVowels(\"hell\"))"
   ]
  },
  {
   "cell_type": "code",
   "execution_count": null,
   "metadata": {},
   "outputs": [],
   "source": []
  }
 ],
 "metadata": {
  "kernelspec": {
   "display_name": "Python 3",
   "language": "python",
   "name": "python3"
  },
  "language_info": {
   "codemirror_mode": {
    "name": "ipython",
    "version": 3
   },
   "file_extension": ".py",
   "mimetype": "text/x-python",
   "name": "python",
   "nbconvert_exporter": "python",
   "pygments_lexer": "ipython3",
   "version": "3.7.7"
  }
 },
 "nbformat": 4,
 "nbformat_minor": 4
}
