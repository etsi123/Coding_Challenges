{
 "cells": [
  {
   "cell_type": "markdown",
   "metadata": {},
   "source": [
    "## Root to leaf path sum equal to a given number\n",
    "\n",
    "Given a binary tree and a number, return true if the tree has a root-to-leaf path such that adding up all the values along the path equals the given number. Return false if no such path can be found. "
   ]
  },
  {
   "cell_type": "code",
   "execution_count": 1,
   "metadata": {},
   "outputs": [],
   "source": [
    "class Node: \n",
    "    def __init__(self,num):\n",
    "        self.num = num\n",
    "        self.left = 0\n",
    "        self.right = 0\n",
    "\n",
    "target = 20\n",
    "root = Node(10)\n",
    "root.left = Node(8)\n",
    "root.right = Node(2)\n",
    "root.left.right = Node(5)\n",
    "root.left.left = Node(2)\n",
    "root.right.left = Node(2)"
   ]
  },
  {
   "cell_type": "code",
   "execution_count": 2,
   "metadata": {},
   "outputs": [],
   "source": [
    "def hasSum(node,target): #function to go through each branch of tree. \n",
    "    new_target = target - node.num #new target. \n",
    "        \n",
    "    if(new_target == 0 and node.left == 0 and node.right == 0): #criteria for having a path. \n",
    "        return True\n",
    "        \n",
    "    if node.left != 0: \n",
    "        return hasSum(node.left,new_target)\n",
    "    if node.right != 0:\n",
    "        return hasSum(node.right,new_target)"
   ]
  },
  {
   "cell_type": "code",
   "execution_count": 3,
   "metadata": {},
   "outputs": [
    {
     "name": "stdout",
     "output_type": "stream",
     "text": [
      "There is a root-to-leaf path with sum 20\n"
     ]
    }
   ],
   "source": [
    "if hasSum(root, target):\n",
    "    print (\"There is a root-to-leaf path with sum \" + str(target))\n",
    "else:\n",
    "    print (\"There is no root-to-leaf path with sum \" + str(target))"
   ]
  },
  {
   "cell_type": "code",
   "execution_count": null,
   "metadata": {},
   "outputs": [],
   "source": []
  }
 ],
 "metadata": {
  "kernelspec": {
   "display_name": "Python 3",
   "language": "python",
   "name": "python3"
  },
  "language_info": {
   "codemirror_mode": {
    "name": "ipython",
    "version": 3
   },
   "file_extension": ".py",
   "mimetype": "text/x-python",
   "name": "python",
   "nbconvert_exporter": "python",
   "pygments_lexer": "ipython3",
   "version": "3.7.7"
  }
 },
 "nbformat": 4,
 "nbformat_minor": 4
}
