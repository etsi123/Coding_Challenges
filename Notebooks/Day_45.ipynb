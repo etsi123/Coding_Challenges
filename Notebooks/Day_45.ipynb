{
 "cells": [
  {
   "cell_type": "markdown",
   "metadata": {},
   "source": [
    "## Maximum sum such that no two elements are adjacent\n",
    "\n",
    "Given an array of positive numbers, find the maximum sum of a subsequence with the constraint that no 2 numbers in the sequence should be adjacent in the array. So 3 2 7 10 should return 13 (sum of 3 and 10) or 3 2 5 10 7 should return 15 (sum of 3, 5 and 7).Answer the question in most efficient way."
   ]
  },
  {
   "cell_type": "code",
   "execution_count": 3,
   "metadata": {},
   "outputs": [],
   "source": [
    "def maxSumNoAdjacent(input_list): \n",
    "    currSum = input_list[0] #current number being evaluated \n",
    "    prevSum = 0 #sum of the previously seen numbers, not including 'i'. \n",
    "    for i in range(1,len(input_list)):\n",
    "        temp = currSum \n",
    "        currSum = max(input_list[i] + prevSum,currSum) #does the current element make the sum bigger or not. \n",
    "        prevSum = temp #keep track of solution through element i. will repeat for i+1. \n",
    "    return currSum "
   ]
  },
  {
   "cell_type": "code",
   "execution_count": 2,
   "metadata": {},
   "outputs": [
    {
     "name": "stdout",
     "output_type": "stream",
     "text": [
      "150\n",
      "80\n"
     ]
    }
   ],
   "source": [
    "print(maxSumNoAdjacent([5, 15, 10, 100, 20, 35] ))\n",
    "print(maxSumNoAdjacent([5,  5, 10, 40, 50, 35]))"
   ]
  },
  {
   "cell_type": "code",
   "execution_count": null,
   "metadata": {},
   "outputs": [],
   "source": []
  }
 ],
 "metadata": {
  "kernelspec": {
   "display_name": "Python 3",
   "language": "python",
   "name": "python3"
  },
  "language_info": {
   "codemirror_mode": {
    "name": "ipython",
    "version": 3
   },
   "file_extension": ".py",
   "mimetype": "text/x-python",
   "name": "python",
   "nbconvert_exporter": "python",
   "pygments_lexer": "ipython3",
   "version": "3.7.7"
  }
 },
 "nbformat": 4,
 "nbformat_minor": 4
}
