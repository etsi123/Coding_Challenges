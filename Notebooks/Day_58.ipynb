{
 "cells": [
  {
   "cell_type": "markdown",
   "metadata": {},
   "source": [
    "## Friends of Appropriate Ages\n",
    "\n",
    "Some people will make friend requests. The list of their ages is given and ages[i] is the age of the ith person. \n",
    "\n",
    "Person A will NOT friend request person B (B != A) if any of the following conditions are true:\n",
    "\n",
    "age[B] <= 0.5 * age[A] + 7\n",
    "\n",
    "age[B] > age[A]\n",
    "\n",
    "age[B] > 100 && age[A] < 100\n",
    "\n",
    "Otherwise, A will friend request B. Note that if A requests B, B does not necessarily request A.  Also, people will not friend request themselves. How many total friend requests are made?"
   ]
  },
  {
   "cell_type": "code",
   "execution_count": 1,
   "metadata": {},
   "outputs": [],
   "source": [
    "def numFriendRequests(ages):\n",
    "    count = 0\n",
    "    for i in range(0,len(ages)):  #loop over all ages. \n",
    "        age = ages[i] \n",
    "        agesConsider = ages[0:i]+ages[i+1:] #remove this age from list and evaluate remainder. \n",
    "        agesConsider = [num for num in agesConsider if (num > (0.5*age+7))] #condition 1\n",
    "        agesConsider = [num for num in agesConsider if (num <= age) ] #condition 2\n",
    "        agesConsider = [num for num in agesConsider if (num < 100 or age>100) ] #condition 3\n",
    "        count = count + len(agesConsider) #count the number of ages remaining. \n",
    "    return count"
   ]
  },
  {
   "cell_type": "code",
   "execution_count": 4,
   "metadata": {},
   "outputs": [
    {
     "data": {
      "text/plain": [
       "2"
      ]
     },
     "execution_count": 4,
     "metadata": {},
     "output_type": "execute_result"
    }
   ],
   "source": [
    "numFriendRequests([16,16])"
   ]
  },
  {
   "cell_type": "code",
   "execution_count": 3,
   "metadata": {},
   "outputs": [
    {
     "data": {
      "text/plain": [
       "2"
      ]
     },
     "execution_count": 3,
     "metadata": {},
     "output_type": "execute_result"
    }
   ],
   "source": [
    "numFriendRequests([16,17,18])"
   ]
  },
  {
   "cell_type": "code",
   "execution_count": null,
   "metadata": {},
   "outputs": [],
   "source": []
  },
  {
   "cell_type": "code",
   "execution_count": null,
   "metadata": {},
   "outputs": [],
   "source": []
  }
 ],
 "metadata": {
  "kernelspec": {
   "display_name": "Python 3",
   "language": "python",
   "name": "python3"
  },
  "language_info": {
   "codemirror_mode": {
    "name": "ipython",
    "version": 3
   },
   "file_extension": ".py",
   "mimetype": "text/x-python",
   "name": "python",
   "nbconvert_exporter": "python",
   "pygments_lexer": "ipython3",
   "version": "3.7.7"
  }
 },
 "nbformat": 4,
 "nbformat_minor": 4
}
